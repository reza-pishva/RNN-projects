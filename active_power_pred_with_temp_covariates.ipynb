{
 "cells": [
  {
   "cell_type": "code",
   "execution_count": 35,
   "metadata": {},
   "outputs": [],
   "source": [
    "# import pandas as pd\n",
    "# from datetime import datetime, timedelta\n",
    "# # خواندن فایل CSV\n",
    "# df = pd.read_csv(\"power_code.csv\")\n",
    "# # تبدیل تاریخ با فرمت‌های مختلف\n",
    "# df['DATE_MILADI'] = pd.to_datetime(df['DATE_MILADI'], format='mixed', errors='coerce')\n",
    "\n",
    "# # حذف ردیف‌هایی که تبدیل تاریخ در آن‌ها ناموفق بوده\n",
    "# df = df.dropna(subset=['DATE_MILADI'])\n",
    "# # ساخت ستون جدید DATE با ساعت اصلاح‌شده از ستون HOUR\n",
    "# df['DATE'] = df.apply(lambda row: row['DATE_MILADI'].replace(hour=int(row['HOUR']) % 24), axis=1)\n",
    "\n",
    "# # نمایش چند سطر اول برای بررسی\n",
    "# print(df[['DATE_MILADI', 'HOUR', 'DATE']].head())\n",
    "\n",
    "# # ذخیره فایل جدید در صورت نیاز\n",
    "# df.to_csv('updated_file.csv', index=False)"
   ]
  },
  {
   "cell_type": "code",
   "execution_count": 36,
   "metadata": {},
   "outputs": [],
   "source": [
    "import pandas as pd\n",
    "from datetime import datetime, timedelta\n",
    "from darts import TimeSeries\n",
    "import pandas as pd\n",
    "from darts.models import RNNModel\n",
    "from darts.dataprocessing.transformers import Scaler\n",
    "from sklearn.preprocessing import MinMaxScaler\n",
    "from darts.metrics import rmse, mae\n",
    "import matplotlib.pyplot as plt"
   ]
  },
  {
   "cell_type": "code",
   "execution_count": 37,
   "metadata": {},
   "outputs": [],
   "source": [
    "df = pd.read_csv(\"../BackUp/updated_file.csv\")\n",
    "df['DATE'] = pd.to_datetime(df['DATE'], format='mixed', errors='coerce')\n",
    "df = df.dropna(subset=['DATE'])"
   ]
  },
  {
   "cell_type": "code",
   "execution_count": 38,
   "metadata": {},
   "outputs": [
    {
     "name": "stdout",
     "output_type": "stream",
     "text": [
      "          ID_NO  HOUR DATE_MILADI DATE_SHAMSI  POWER CODE  UNIT_NO  ID_EBRAZ  \\\n",
      "966214  1490053     1   6/28/2025    1404/4/7     96   SO        2   1427858   \n",
      "966215  1490054     2   6/28/2025    1404/4/7     96   SO        2   1427859   \n",
      "966216  1490055     3   6/28/2025    1404/4/7     97   SO        2   1427860   \n",
      "966217  1490056     4   6/28/2025    1404/4/7     90   SO        2   1427861   \n",
      "966218  1490057     5   6/28/2025    1404/4/7     90   SO        2   1427862   \n",
      "\n",
      "       CODE3  MVAR  DAMA  ROTOOBAT   TOTAL                DATE  \n",
      "966214     A  21.0  26.0      13.0  1050.0 2025-06-28 01:00:00  \n",
      "966215     A  19.0  25.0      15.0  1052.0 2025-06-28 02:00:00  \n",
      "966216     A  19.0  23.0      17.0  1059.0 2025-06-28 03:00:00  \n",
      "966217     A  18.0  24.0      18.0   992.0 2025-06-28 04:00:00  \n",
      "966218     A  15.0  24.0      18.0   996.0 2025-06-28 05:00:00  \n"
     ]
    }
   ],
   "source": [
    "target_date = pd.to_datetime('6/28/2025 1:00:00 AM')\n",
    "df_filtered = df[(df['UNIT_NO'] == 2) & (df['DATE'] >= target_date)]\n",
    "print(df_filtered.head())\n"
   ]
  },
  {
   "cell_type": "code",
   "execution_count": 39,
   "metadata": {},
   "outputs": [],
   "source": [
    "df['DATE'] = pd.to_datetime(df['DATE'])"
   ]
  },
  {
   "cell_type": "code",
   "execution_count": 40,
   "metadata": {},
   "outputs": [
    {
     "name": "stdout",
     "output_type": "stream",
     "text": [
      "duplicates rows: 0\n"
     ]
    }
   ],
   "source": [
    "duplicates = df_filtered['DATE'].duplicated().sum()\n",
    "print(f\"duplicates rows: {duplicates}\")\n"
   ]
  },
  {
   "cell_type": "code",
   "execution_count": 41,
   "metadata": {},
   "outputs": [],
   "source": [
    "df_filtered = df_filtered.drop_duplicates(subset='DATE')\n",
    "# df_filtered = df_filtered.groupby('DATE', as_index=False).agg({'POWER': 'mean'})"
   ]
  },
  {
   "cell_type": "code",
   "execution_count": 42,
   "metadata": {},
   "outputs": [],
   "source": [
    "series = TimeSeries.from_dataframe(\n",
    "    df_filtered,\n",
    "    time_col='DATE',\n",
    "    value_cols='POWER',\n",
    "    freq='h'  \n",
    ")"
   ]
  },
  {
   "cell_type": "code",
   "execution_count": 43,
   "metadata": {},
   "outputs": [],
   "source": [
    "covariates = TimeSeries.from_dataframe(df_filtered, time_col='DATE', value_cols='DAMA', freq='h')"
   ]
  },
  {
   "cell_type": "code",
   "execution_count": 44,
   "metadata": {},
   "outputs": [],
   "source": [
    "# scaler = Scaler(MinMaxScaler(feature_range=(0, 1)))\n",
    "# series_scaled = scaler.fit_transform(series)\n",
    "\n",
    "scaler_series = Scaler(MinMaxScaler(feature_range=(0, 1)))\n",
    "series_scaled = scaler_series.fit_transform(series)\n",
    "scaler_cov = Scaler(MinMaxScaler(feature_range=(0, 1)))\n",
    "covariates_scaled = scaler_cov.fit_transform(covariates)"
   ]
  },
  {
   "cell_type": "code",
   "execution_count": 45,
   "metadata": {},
   "outputs": [
    {
     "name": "stdout",
     "output_type": "stream",
     "text": [
      "train data: 272 hour\n",
      "test data: 15 hour\n"
     ]
    }
   ],
   "source": [
    "train_ratio = 0.95\n",
    "# train, test = series_scaled.split_after(train_ratio)\n",
    "\n",
    "\n",
    "train_series, test_series = series_scaled.split_after(train_ratio)\n",
    "train_cov, test_cov = covariates_scaled.split_after(train_ratio)\n",
    "\n",
    "print(f\"train data: {len(train_series)} hour\")\n",
    "print(f\"test data: {len(test_series)} hour\")\n"
   ]
  },
  {
   "cell_type": "code",
   "execution_count": 46,
   "metadata": {},
   "outputs": [],
   "source": [
    "# model = RNNModel(\n",
    "#     model='LSTM', \n",
    "#     hidden_dim=100,\n",
    "#     n_rnn_layers=6,   \n",
    "#     dropout=0.2, \n",
    "#     input_chunk_length=24, \n",
    "#     output_chunk_length=12, \n",
    "#     training_length=36, \n",
    "#     n_epochs=100,\n",
    "#     random_state=42 \n",
    "# )"
   ]
  },
  {
   "cell_type": "code",
   "execution_count": 47,
   "metadata": {},
   "outputs": [
    {
     "name": "stderr",
     "output_type": "stream",
     "text": [
      "GPU available: False, used: False\n",
      "TPU available: False, using: 0 TPU cores\n",
      "HPU available: False, using: 0 HPUs\n",
      "\n",
      "  | Name            | Type             | Params | Mode \n",
      "-------------------------------------------------------------\n",
      "0 | criterion       | MSELoss          | 0      | train\n",
      "1 | train_criterion | MSELoss          | 0      | train\n",
      "2 | val_criterion   | MSELoss          | 0      | train\n",
      "3 | train_metrics   | MetricCollection | 0      | train\n",
      "4 | val_metrics     | MetricCollection | 0      | train\n",
      "5 | rnn             | LSTM             | 316 K  | train\n",
      "6 | fc              | Sequential       | 780    | train\n",
      "-------------------------------------------------------------\n",
      "317 K     Trainable params\n",
      "0         Non-trainable params\n",
      "317 K     Total params\n",
      "1.271     Total estimated model params size (MB)\n",
      "8         Modules in train mode\n",
      "0         Modules in eval mode\n"
     ]
    },
    {
     "data": {
      "application/vnd.jupyter.widget-view+json": {
       "model_id": "ceb4b78b475d48bda3559f8639609f40",
       "version_major": 2,
       "version_minor": 0
      },
      "text/plain": [
       "Training: |          | 0/? [00:00<?, ?it/s]"
      ]
     },
     "metadata": {},
     "output_type": "display_data"
    },
    {
     "name": "stderr",
     "output_type": "stream",
     "text": [
      "`Trainer.fit` stopped: `max_epochs=100` reached.\n"
     ]
    },
    {
     "data": {
      "text/plain": [
       "BlockRNNModel(output_chunk_shift=0, model=LSTM, hidden_dim=64, n_rnn_layers=10, hidden_fc_sizes=None, dropout=0.2, activation=ReLU, input_chunk_length=24, output_chunk_length=12, n_epochs=100, random_state=42)"
      ]
     },
     "execution_count": 47,
     "metadata": {},
     "output_type": "execute_result"
    }
   ],
   "source": [
    "from darts.models import BlockRNNModel\n",
    "\n",
    "model = BlockRNNModel(\n",
    "    model='LSTM',\n",
    "    input_chunk_length=24,\n",
    "    output_chunk_length=12,\n",
    "    hidden_dim=64,\n",
    "    n_rnn_layers=10,\n",
    "    dropout=0.2,\n",
    "    n_epochs=100,\n",
    "    random_state=42\n",
    ")\n",
    "\n",
    "model.fit(\n",
    "    series=train_series,\n",
    "    past_covariates=train_cov,\n",
    "    verbose=True\n",
    ")\n"
   ]
  },
  {
   "cell_type": "code",
   "execution_count": 48,
   "metadata": {},
   "outputs": [
    {
     "name": "stderr",
     "output_type": "stream",
     "text": [
      "`predict()` was called with `n > output_chunk_length`: using auto-regression to forecast the values after `output_chunk_length` points. The model will access `(n - output_chunk_length)` future values of your `past_covariates` (relative to the first predicted time step). To hide this warning, set `show_warnings=False`.\n",
      "GPU available: False, used: False\n",
      "TPU available: False, using: 0 TPU cores\n",
      "HPU available: False, using: 0 HPUs\n"
     ]
    },
    {
     "data": {
      "application/vnd.jupyter.widget-view+json": {
       "model_id": "e874b4645a614b4990fea2547df7b505",
       "version_major": 2,
       "version_minor": 0
      },
      "text/plain": [
       "Predicting: |          | 0/? [00:00<?, ?it/s]"
      ]
     },
     "metadata": {},
     "output_type": "display_data"
    }
   ],
   "source": [
    "pred = model.predict(n=len(test_series), series=train_series, past_covariates=covariates_scaled)"
   ]
  },
  {
   "cell_type": "code",
   "execution_count": 49,
   "metadata": {},
   "outputs": [],
   "source": [
    "pred = scaler_series.inverse_transform(pred)\n",
    "test_series = scaler_series.inverse_transform(test_series)"
   ]
  },
  {
   "cell_type": "code",
   "execution_count": 50,
   "metadata": {},
   "outputs": [
    {
     "name": "stdout",
     "output_type": "stream",
     "text": [
      "RMSE: 2.27\n",
      "MAE: 1.61\n"
     ]
    }
   ],
   "source": [
    "print(f\"RMSE: {rmse(test_series, pred):.2f}\")\n",
    "print(f\"MAE: {mae(test_series, pred):.2f}\")"
   ]
  },
  {
   "cell_type": "code",
   "execution_count": 51,
   "metadata": {},
   "outputs": [
    {
     "data": {
      "image/png": "[encoded data removed]",
      "text/plain": [
       "<Figure size 600x300 with 1 Axes>"
      ]
     },
     "metadata": {},
     "output_type": "display_data"
    }
   ],
   "source": [
    "# تبدیل سری‌ها به pandas\n",
    "df_test = test_series.pd_dataframe()\n",
    "df_pred = pred.pd_dataframe()\n",
    "\n",
    "# رسم نمودار\n",
    "plt.figure(figsize=(6, 3))\n",
    "plt.plot(df_test.index, df_test['POWER'], label='Actual')\n",
    "plt.plot(df_pred.index, df_pred['POWER'], label='Predicted')\n",
    "plt.legend()\n",
    "plt.title(\"Actual vs Predicted POWER\")\n",
    "plt.xlabel(\"Time\")\n",
    "plt.ylabel(\"POWER\")\n",
    "plt.grid(True)\n",
    "plt.show()\n"
   ]
  }
 ],
 "metadata": {
  "kernelspec": {
   "display_name": "test2",
   "language": "python",
   "name": "python3"
  },
  "language_info": {
   "codemirror_mode": {
    "name": "ipython",
    "version": 3
   },
   "file_extension": ".py",
   "mimetype": "text/x-python",
   "name": "python",
   "nbconvert_exporter": "python",
   "pygments_lexer": "ipython3",
   "version": "3.12.3"
  }
 },
 "nbformat": 4,
 "nbformat_minor": 2
}
