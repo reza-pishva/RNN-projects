{
 "cells": [
  {
   "cell_type": "code",
   "execution_count": 18,
   "metadata": {},
   "outputs": [],
   "source": [
    "# import pandas as pd\n",
    "# from datetime import datetime, timedelta\n",
    "# # خواندن فایل CSV\n",
    "# df = pd.read_csv(\"power_code.csv\")\n",
    "# # تبدیل تاریخ با فرمت‌های مختلف\n",
    "# df['DATE_MILADI'] = pd.to_datetime(df['DATE_MILADI'], format='mixed', errors='coerce')\n",
    "\n",
    "# # حذف ردیف‌هایی که تبدیل تاریخ در آن‌ها ناموفق بوده\n",
    "# df = df.dropna(subset=['DATE_MILADI'])\n",
    "# # ساخت ستون جدید DATE با ساعت اصلاح‌شده از ستون HOUR\n",
    "# df['DATE'] = df.apply(lambda row: row['DATE_MILADI'].replace(hour=int(row['HOUR']) % 24), axis=1)\n",
    "\n",
    "# # نمایش چند سطر اول برای بررسی\n",
    "# print(df[['DATE_MILADI', 'HOUR', 'DATE']].head())\n",
    "\n",
    "# # ذخیره فایل جدید در صورت نیاز\n",
    "# df.to_csv('updated_file.csv', index=False)"
   ]
  },
  {
   "cell_type": "code",
   "execution_count": 19,
   "metadata": {},
   "outputs": [],
   "source": [
    "import pandas as pd\n",
    "from datetime import datetime, timedelta\n",
    "from darts import TimeSeries\n",
    "import pandas as pd\n",
    "from darts.models import RNNModel\n",
    "from darts.dataprocessing.transformers import Scaler\n",
    "from sklearn.preprocessing import MinMaxScaler\n",
    "from darts.metrics import rmse, mae\n",
    "import matplotlib.pyplot as plt"
   ]
  },
  {
   "cell_type": "code",
   "execution_count": 20,
   "metadata": {},
   "outputs": [],
   "source": [
    "df = pd.read_csv(\"../BackUp/updated_file.csv\")\n",
    "df['DATE'] = pd.to_datetime(df['DATE'], format='mixed', errors='coerce')\n",
    "df = df.dropna(subset=['DATE'])"
   ]
  },
  {
   "cell_type": "code",
   "execution_count": 21,
   "metadata": {},
   "outputs": [
    {
     "name": "stdout",
     "output_type": "stream",
     "text": [
      "          ID_NO  HOUR DATE_MILADI DATE_SHAMSI  POWER CODE  UNIT_NO  ID_EBRAZ  \\\n",
      "966262  1490101     1  2025-06-28    1404/4/7    119   SO        4   1427906   \n",
      "966263  1490102     2  2025-06-28    1404/4/7    119   SO        4   1427907   \n",
      "966264  1490103     3  2025-06-28    1404/4/7    119   SO        4   1427908   \n",
      "966265  1490104     4  2025-06-28    1404/4/7    110   SO        4   1427909   \n",
      "966266  1490105     5  2025-06-28    1404/4/7    110   SO        4   1427910   \n",
      "\n",
      "       CODE3  MVAR  DAMA  ROTOOBAT   TOTAL                DATE  \n",
      "966262     A  21.0  26.0      13.0  1050.0 2025-06-28 01:00:00  \n",
      "966263     A  19.0  25.0      15.0  1052.0 2025-06-28 02:00:00  \n",
      "966264     A  20.0  23.0      17.0  1059.0 2025-06-28 03:00:00  \n",
      "966265     A  18.0  24.0      18.0   992.0 2025-06-28 04:00:00  \n",
      "966266     A  16.0  24.0      18.0   996.0 2025-06-28 05:00:00  \n"
     ]
    }
   ],
   "source": [
    "target_date = pd.to_datetime('6/28/2025 1:00:00 AM')\n",
    "df_filtered = df[(df['UNIT_NO'] == 4) & (df['DATE'] >= target_date)]\n",
    "print(df_filtered.head())\n"
   ]
  },
  {
   "cell_type": "code",
   "execution_count": 22,
   "metadata": {},
   "outputs": [],
   "source": [
    "df['DATE'] = pd.to_datetime(df['DATE'])"
   ]
  },
  {
   "cell_type": "code",
   "execution_count": 23,
   "metadata": {},
   "outputs": [
    {
     "name": "stdout",
     "output_type": "stream",
     "text": [
      "duplicates rows: 0\n"
     ]
    }
   ],
   "source": [
    "duplicates = df_filtered['DATE'].duplicated().sum()\n",
    "print(f\"duplicates rows: {duplicates}\")\n"
   ]
  },
  {
   "cell_type": "code",
   "execution_count": 24,
   "metadata": {},
   "outputs": [],
   "source": [
    "df_filtered = df_filtered.drop_duplicates(subset='DATE')\n",
    "# df_filtered = df_filtered.groupby('DATE', as_index=False).agg({'POWER': 'mean'})"
   ]
  },
  {
   "cell_type": "code",
   "execution_count": 25,
   "metadata": {},
   "outputs": [],
   "source": [
    "series = TimeSeries.from_dataframe(\n",
    "    df_filtered,\n",
    "    time_col='DATE',\n",
    "    value_cols='POWER',\n",
    "    freq='h'  \n",
    ")"
   ]
  },
  {
   "cell_type": "code",
   "execution_count": 26,
   "metadata": {},
   "outputs": [],
   "source": [
    "scaler = Scaler(MinMaxScaler(feature_range=(0, 1)))\n",
    "series_scaled = scaler.fit_transform(series)"
   ]
  },
  {
   "cell_type": "code",
   "execution_count": 27,
   "metadata": {},
   "outputs": [
    {
     "name": "stdout",
     "output_type": "stream",
     "text": [
      "train data: 272 hour\n",
      "test data: 15 hour\n"
     ]
    }
   ],
   "source": [
    "train_ratio = 0.95\n",
    "train, test = series_scaled.split_after(train_ratio)\n",
    "\n",
    "print(f\"train data: {len(train)} hour\")\n",
    "print(f\"test data: {len(test)} hour\")\n"
   ]
  },
  {
   "cell_type": "code",
   "execution_count": 28,
   "metadata": {},
   "outputs": [
    {
     "name": "stderr",
     "output_type": "stream",
     "text": [
      "ignoring user defined `output_chunk_length`. RNNModel uses a fixed `output_chunk_length=1`.\n"
     ]
    }
   ],
   "source": [
    "model = RNNModel(\n",
    "    model='LSTM', \n",
    "    hidden_dim=100,\n",
    "    n_rnn_layers=6,   \n",
    "    dropout=0.2, \n",
    "    input_chunk_length=24, \n",
    "    output_chunk_length=12, \n",
    "    training_length=36, \n",
    "    n_epochs=100,\n",
    "    random_state=42 \n",
    ")"
   ]
  },
  {
   "cell_type": "code",
   "execution_count": 29,
   "metadata": {},
   "outputs": [
    {
     "name": "stderr",
     "output_type": "stream",
     "text": [
      "GPU available: False, used: False\n",
      "TPU available: False, using: 0 TPU cores\n",
      "HPU available: False, using: 0 HPUs\n",
      "\n",
      "  | Name            | Type             | Params | Mode \n",
      "-------------------------------------------------------------\n",
      "0 | criterion       | MSELoss          | 0      | train\n",
      "1 | train_criterion | MSELoss          | 0      | train\n",
      "2 | val_criterion   | MSELoss          | 0      | train\n",
      "3 | train_metrics   | MetricCollection | 0      | train\n",
      "4 | val_metrics     | MetricCollection | 0      | train\n",
      "5 | rnn             | LSTM             | 445 K  | train\n",
      "6 | V               | Linear           | 101    | train\n",
      "-------------------------------------------------------------\n",
      "445 K     Trainable params\n",
      "0         Non-trainable params\n",
      "445 K     Total params\n",
      "1.781     Total estimated model params size (MB)\n",
      "7         Modules in train mode\n",
      "0         Modules in eval mode\n"
     ]
    },
    {
     "data": {
      "application/vnd.jupyter.widget-view+json": {
       "model_id": "002e99e6be114ba7a7a6b621644e71bb",
       "version_major": 2,
       "version_minor": 0
      },
      "text/plain": [
       "Training: |          | 0/? [00:00<?, ?it/s]"
      ]
     },
     "metadata": {},
     "output_type": "display_data"
    },
    {
     "name": "stderr",
     "output_type": "stream",
     "text": [
      "`Trainer.fit` stopped: `max_epochs=100` reached.\n"
     ]
    },
    {
     "data": {
      "text/plain": [
       "RNNModel(model=LSTM, hidden_dim=100, n_rnn_layers=6, dropout=0.2, training_length=36, input_chunk_length=24, output_chunk_length=12, n_epochs=100, random_state=42)"
      ]
     },
     "execution_count": 29,
     "metadata": {},
     "output_type": "execute_result"
    }
   ],
   "source": [
    "model.fit(train)"
   ]
  },
  {
   "cell_type": "code",
   "execution_count": 30,
   "metadata": {},
   "outputs": [
    {
     "name": "stderr",
     "output_type": "stream",
     "text": [
      "GPU available: False, used: False\n",
      "TPU available: False, using: 0 TPU cores\n",
      "HPU available: False, using: 0 HPUs\n"
     ]
    },
    {
     "data": {
      "application/vnd.jupyter.widget-view+json": {
       "model_id": "abdc46bca52a4b52b679e33c5732f11f",
       "version_major": 2,
       "version_minor": 0
      },
      "text/plain": [
       "Predicting: |          | 0/? [00:00<?, ?it/s]"
      ]
     },
     "metadata": {},
     "output_type": "display_data"
    }
   ],
   "source": [
    "pred = model.predict(n=len(test), series=train)"
   ]
  },
  {
   "cell_type": "code",
   "execution_count": 31,
   "metadata": {},
   "outputs": [],
   "source": [
    "pred = scaler.inverse_transform(pred)\n",
    "test = scaler.inverse_transform(test)"
   ]
  },
  {
   "cell_type": "code",
   "execution_count": 32,
   "metadata": {},
   "outputs": [
    {
     "name": "stdout",
     "output_type": "stream",
     "text": [
      "RMSE: 2.27\n",
      "MAE: 1.74\n"
     ]
    }
   ],
   "source": [
    "rmse_score = rmse(test, pred)\n",
    "mae_score = mae(test, pred)\n",
    "print(f\"RMSE: {rmse_score:.2f}\")\n",
    "print(f\"MAE: {mae_score:.2f}\")"
   ]
  },
  {
   "cell_type": "code",
   "execution_count": 37,
   "metadata": {},
   "outputs": [
    {
     "data": {
      "image/png": "[encoded data removed]",
      "text/plain": [
       "<Figure size 1000x500 with 1 Axes>"
      ]
     },
     "metadata": {},
     "output_type": "display_data"
    }
   ],
   "source": [
    "# تبدیل سری‌ها به pandas\n",
    "df_test = test.pd_dataframe()\n",
    "df_pred = pred.pd_dataframe()\n",
    "\n",
    "# رسم نمودار\n",
    "plt.figure(figsize=(10, 5))\n",
    "plt.plot(df_test.index, df_test['POWER'], label='Actual')\n",
    "plt.plot(df_pred.index, df_pred['POWER'], label='Predicted')\n",
    "plt.legend()\n",
    "plt.title(\"Actual vs Predicted POWER\")\n",
    "plt.xlabel(\"Time\")\n",
    "plt.ylabel(\"POWER\")\n",
    "plt.grid(True)\n",
    "plt.show()\n"
   ]
  }
 ],
 "metadata": {
  "kernelspec": {
   "display_name": "test2",
   "language": "python",
   "name": "python3"
  },
  "language_info": {
   "codemirror_mode": {
    "name": "ipython",
    "version": 3
   },
   "file_extension": ".py",
   "mimetype": "text/x-python",
   "name": "python",
   "nbconvert_exporter": "python",
   "pygments_lexer": "ipython3",
   "version": "3.12.3"
  }
 },
 "nbformat": 4,
 "nbformat_minor": 2
}
