{
 "cells": [
  {
   "cell_type": "code",
   "execution_count": 1,
   "metadata": {},
   "outputs": [
    {
     "name": "stderr",
     "output_type": "stream",
     "text": [
      "c:\\Users\\pishva_r\\Anaconda3\\envs\\test2\\Lib\\site-packages\\torch\\utils\\_pytree.py:185: FutureWarning: optree is installed but the version is too old to support PyTorch Dynamo in C++ pytree. C++ pytree support is disabled. Please consider upgrading optree using `python3 -m pip install --upgrade 'optree>=0.13.0'`.\n",
      "  warnings.warn(\n"
     ]
    }
   ],
   "source": [
    "import pandas as pd\n",
    "from darts import TimeSeries\n",
    "from darts.models import NBEATSModel\n",
    "from darts.dataprocessing.transformers import Scaler\n",
    "from sklearn.preprocessing import MinMaxScaler\n",
    "from darts.metrics import rmse, mae\n",
    "import matplotlib.pyplot as plt\n",
    "import random\n",
    "from pytorch_lightning.callbacks import EarlyStopping\n",
    "import torch"
   ]
  },
  {
   "cell_type": "code",
   "execution_count": 2,
   "metadata": {},
   "outputs": [],
   "source": [
    "# 1. خواندن داده\n",
    "df = pd.read_excel(\"main_trans.xlsx\")\n",
    "df['DateTime'] = pd.to_datetime(df['DateTime'], errors='coerce')\n",
    "df = df.dropna(subset=['DateTime'])"
   ]
  },
  {
   "cell_type": "code",
   "execution_count": 3,
   "metadata": {},
   "outputs": [],
   "source": [
    "# 2. فیلتر بازه زمانی\n",
    "target_date = pd.to_datetime('2023-9-01 00:00:00')\n",
    "df_filtered = df[df['DateTime'] >= target_date]"
   ]
  },
  {
   "cell_type": "code",
   "execution_count": 4,
   "metadata": {},
   "outputs": [
    {
     "name": "stderr",
     "output_type": "stream",
     "text": [
      "C:\\Users\\pishva_r\\AppData\\Local\\Temp\\ipykernel_6300\\4011370313.py:2: FutureWarning: 'H' is deprecated and will be removed in a future version, please use 'h' instead.\n",
      "  df_filtered = df_filtered.set_index('DateTime').resample('1H').mean()\n"
     ]
    }
   ],
   "source": [
    "# 3. بازنمونه‌گیری و پر کردن داده‌های خالی\n",
    "df_filtered = df_filtered.set_index('DateTime').resample('1H').mean()\n",
    "df_filtered = df_filtered.interpolate(method='linear')"
   ]
  },
  {
   "cell_type": "code",
   "execution_count": 5,
   "metadata": {},
   "outputs": [],
   "source": [
    "# 4. ساخت سری هدف و covariates\n",
    "series = TimeSeries.from_dataframe(df_filtered, value_cols='oil temperature', freq='h')\n",
    "covariates = TimeSeries.from_dataframe(df_filtered, value_cols=['winding temperature', 'tap position'], freq='h')"
   ]
  },
  {
   "cell_type": "code",
   "execution_count": 6,
   "metadata": {},
   "outputs": [],
   "source": [
    "# 5. نرمال‌سازی\n",
    "scaler_series = Scaler(MinMaxScaler())\n",
    "series_scaled = scaler_series.fit_transform(series)\n",
    "\n",
    "scaler_cov = Scaler(MinMaxScaler())\n",
    "covariates_scaled = scaler_cov.fit_transform(covariates)"
   ]
  },
  {
   "cell_type": "code",
   "execution_count": 7,
   "metadata": {},
   "outputs": [],
   "source": [
    "# 6. تقسیم داده‌ها به train, val, test\n",
    "train_ratio = 0.8\n",
    "val_ratio = 0.1\n",
    "train_series, temp_series = series_scaled.split_after(train_ratio)\n",
    "val_series, test_series = temp_series.split_after(val_ratio / (1 - train_ratio))\n",
    "train_cov, temp_cov = covariates_scaled.split_after(train_ratio)\n",
    "val_cov, test_cov = temp_cov.split_after(val_ratio / (1 - train_ratio))"
   ]
  },
  {
   "cell_type": "code",
   "execution_count": 8,
   "metadata": {},
   "outputs": [],
   "source": [
    "# تعریف فضای پارامترها برای random search\n",
    "param_space = {\n",
    "    'input_chunk_length': [24, 48, 72],\n",
    "    'output_chunk_length': [6, 12, 24],   \n",
    "    'num_layers': [2, 4, 6],\n",
    "    'layer_widths': [256, 512, 1024]\n",
    "}"
   ]
  },
  {
   "cell_type": "code",
   "execution_count": 9,
   "metadata": {},
   "outputs": [],
   "source": [
    "# تعداد آزمون‌های random search\n",
    "n_trials = 5\n",
    "\n",
    "best_model = None\n",
    "best_params = None\n",
    "best_val_rmse = float('inf')"
   ]
  },
  {
   "cell_type": "code",
   "execution_count": 11,
   "metadata": {},
   "outputs": [
    {
     "name": "stdout",
     "output_type": "stream",
     "text": [
      "Testing params: {'input_chunk_length': 72, 'output_chunk_length': 24, 'num_layers': 2, 'layer_widths': 1024}\n",
      "Testing params: {'input_chunk_length': 48, 'output_chunk_length': 12, 'num_layers': 2, 'layer_widths': 512}\n",
      "Testing params: {'input_chunk_length': 72, 'output_chunk_length': 24, 'num_layers': 6, 'layer_widths': 256}\n",
      "Testing params: {'input_chunk_length': 24, 'output_chunk_length': 12, 'num_layers': 2, 'layer_widths': 1024}\n",
      "Testing params: {'input_chunk_length': 48, 'output_chunk_length': 6, 'num_layers': 4, 'layer_widths': 512}\n"
     ]
    }
   ],
   "source": [
    "# 7. Random Search برای تیونینگ\n",
    "for _ in range(n_trials):\n",
    "    # انتخاب random پارامترها\n",
    "    params = {k: random.choice(v) for k, v in param_space.items()}\n",
    "    print(f\"Testing params: {params}\")\n",
    "    \n",
    "    # ساخت مدل با early stopping\n",
    "    pl_trainer_kwargs = {\n",
    "        \"callbacks\": [EarlyStopping(monitor=\"val_loss\", patience=5, mode=\"min\")],\n",
    "        \"accelerator\": \"gpu\" if torch.cuda.is_available() else \"cpu\",\n",
    "        \"devices\": 1\n",
    "    }\n",
    "    \n",
    "    model = NBEATSModel(\n",
    "        input_chunk_length=params['input_chunk_length'],\n",
    "        output_chunk_length=params['output_chunk_length'],\n",
    "        n_epochs=100,  # حداکثر epochs، early stopping متوقف می‌کنه\n",
    "        num_stacks=30,\n",
    "        num_blocks=3,\n",
    "        num_layers=params['num_layers'],\n",
    "        layer_widths=params['layer_widths'],\n",
    "        batch_size=32,\n",
    "        random_state=42,\n",
    "        model_name=\"oil-temp-nbeats\",\n",
    "        pl_trainer_kwargs=pl_trainer_kwargs\n",
    "    )"
   ]
  },
  {
   "cell_type": "code",
   "execution_count": 12,
   "metadata": {},
   "outputs": [
    {
     "name": "stderr",
     "output_type": "stream",
     "text": [
      "GPU available: False, used: False\n",
      "TPU available: False, using: 0 TPU cores\n",
      "HPU available: False, using: 0 HPUs\n",
      "\n",
      "  | Name            | Type             | Params | Mode \n",
      "-------------------------------------------------------------\n",
      "0 | criterion       | MSELoss          | 0      | train\n",
      "1 | train_criterion | MSELoss          | 0      | train\n",
      "2 | val_criterion   | MSELoss          | 0      | train\n",
      "3 | train_metrics   | MetricCollection | 0      | train\n",
      "4 | val_metrics     | MetricCollection | 0      | train\n",
      "5 | stacks          | ModuleList       | 78.1 M | train\n",
      "-------------------------------------------------------------\n",
      "78.1 M    Trainable params\n",
      "3.4 K     Non-trainable params\n",
      "78.1 M    Total params\n",
      "312.592   Total estimated model params size (MB)\n",
      "1056      Modules in train mode\n",
      "0         Modules in eval mode\n"
     ]
    },
    {
     "data": {
      "application/vnd.jupyter.widget-view+json": {
       "model_id": "b691b7e1c78f411db38e509d5fb4af10",
       "version_major": 2,
       "version_minor": 0
      },
      "text/plain": [
       "Sanity Checking: |          | 0/? [00:00<?, ?it/s]"
      ]
     },
     "metadata": {},
     "output_type": "display_data"
    },
    {
     "data": {
      "application/vnd.jupyter.widget-view+json": {
       "model_id": "90aa272b60c4485596cc7dfaf2c5c9ad",
       "version_major": 2,
       "version_minor": 0
      },
      "text/plain": [
       "Training: |          | 0/? [00:00<?, ?it/s]"
      ]
     },
     "metadata": {},
     "output_type": "display_data"
    },
    {
     "data": {
      "application/vnd.jupyter.widget-view+json": {
       "model_id": "6e0e4873983b49b59a9b93d9020032f7",
       "version_major": 2,
       "version_minor": 0
      },
      "text/plain": [
       "Validation: |          | 0/? [00:00<?, ?it/s]"
      ]
     },
     "metadata": {},
     "output_type": "display_data"
    },
    {
     "data": {
      "application/vnd.jupyter.widget-view+json": {
       "model_id": "a135beb0fa324e4b9eedd15783f1f24d",
       "version_major": 2,
       "version_minor": 0
      },
      "text/plain": [
       "Validation: |          | 0/? [00:00<?, ?it/s]"
      ]
     },
     "metadata": {},
     "output_type": "display_data"
    },
    {
     "data": {
      "application/vnd.jupyter.widget-view+json": {
       "model_id": "cbef4fd809ee406699b1de5fb83b8f86",
       "version_major": 2,
       "version_minor": 0
      },
      "text/plain": [
       "Validation: |          | 0/? [00:00<?, ?it/s]"
      ]
     },
     "metadata": {},
     "output_type": "display_data"
    },
    {
     "data": {
      "application/vnd.jupyter.widget-view+json": {
       "model_id": "0cec8dd879404f1aa0f03a923260e407",
       "version_major": 2,
       "version_minor": 0
      },
      "text/plain": [
       "Validation: |          | 0/? [00:00<?, ?it/s]"
      ]
     },
     "metadata": {},
     "output_type": "display_data"
    },
    {
     "data": {
      "application/vnd.jupyter.widget-view+json": {
       "model_id": "11c6a37dbf3642cf92391f3447c82839",
       "version_major": 2,
       "version_minor": 0
      },
      "text/plain": [
       "Validation: |          | 0/? [00:00<?, ?it/s]"
      ]
     },
     "metadata": {},
     "output_type": "display_data"
    },
    {
     "data": {
      "application/vnd.jupyter.widget-view+json": {
       "model_id": "7769961eac21463bb0313cb83902a064",
       "version_major": 2,
       "version_minor": 0
      },
      "text/plain": [
       "Validation: |          | 0/? [00:00<?, ?it/s]"
      ]
     },
     "metadata": {},
     "output_type": "display_data"
    },
    {
     "data": {
      "application/vnd.jupyter.widget-view+json": {
       "model_id": "07d0107455e8485b8eb17d4a539fcc58",
       "version_major": 2,
       "version_minor": 0
      },
      "text/plain": [
       "Validation: |          | 0/? [00:00<?, ?it/s]"
      ]
     },
     "metadata": {},
     "output_type": "display_data"
    },
    {
     "data": {
      "application/vnd.jupyter.widget-view+json": {
       "model_id": "043a0013c66249d9bbd41323cd434548",
       "version_major": 2,
       "version_minor": 0
      },
      "text/plain": [
       "Validation: |          | 0/? [00:00<?, ?it/s]"
      ]
     },
     "metadata": {},
     "output_type": "display_data"
    },
    {
     "data": {
      "application/vnd.jupyter.widget-view+json": {
       "model_id": "124fa6ab3df040a7acc75f0b76414ca6",
       "version_major": 2,
       "version_minor": 0
      },
      "text/plain": [
       "Validation: |          | 0/? [00:00<?, ?it/s]"
      ]
     },
     "metadata": {},
     "output_type": "display_data"
    },
    {
     "data": {
      "application/vnd.jupyter.widget-view+json": {
       "model_id": "3329160c198245338eacd029d7c9ee76",
       "version_major": 2,
       "version_minor": 0
      },
      "text/plain": [
       "Validation: |          | 0/? [00:00<?, ?it/s]"
      ]
     },
     "metadata": {},
     "output_type": "display_data"
    },
    {
     "data": {
      "application/vnd.jupyter.widget-view+json": {
       "model_id": "125ac299447d47a1924b0a0fadf717ca",
       "version_major": 2,
       "version_minor": 0
      },
      "text/plain": [
       "Validation: |          | 0/? [00:00<?, ?it/s]"
      ]
     },
     "metadata": {},
     "output_type": "display_data"
    },
    {
     "data": {
      "application/vnd.jupyter.widget-view+json": {
       "model_id": "50aab8e5e033427384bef136af514d09",
       "version_major": 2,
       "version_minor": 0
      },
      "text/plain": [
       "Validation: |          | 0/? [00:00<?, ?it/s]"
      ]
     },
     "metadata": {},
     "output_type": "display_data"
    },
    {
     "data": {
      "application/vnd.jupyter.widget-view+json": {
       "model_id": "3a05d27a8ad34ea59664bcf08936288a",
       "version_major": 2,
       "version_minor": 0
      },
      "text/plain": [
       "Validation: |          | 0/? [00:00<?, ?it/s]"
      ]
     },
     "metadata": {},
     "output_type": "display_data"
    },
    {
     "data": {
      "application/vnd.jupyter.widget-view+json": {
       "model_id": "b74edc08a82d4ffe978152f02afbcb1b",
       "version_major": 2,
       "version_minor": 0
      },
      "text/plain": [
       "Validation: |          | 0/? [00:00<?, ?it/s]"
      ]
     },
     "metadata": {},
     "output_type": "display_data"
    },
    {
     "data": {
      "application/vnd.jupyter.widget-view+json": {
       "model_id": "d6b23f0dbcd4470cb8399ae817a4c9df",
       "version_major": 2,
       "version_minor": 0
      },
      "text/plain": [
       "Validation: |          | 0/? [00:00<?, ?it/s]"
      ]
     },
     "metadata": {},
     "output_type": "display_data"
    },
    {
     "data": {
      "application/vnd.jupyter.widget-view+json": {
       "model_id": "392bbd04ea0243b9b33f76bdc96df770",
       "version_major": 2,
       "version_minor": 0
      },
      "text/plain": [
       "Validation: |          | 0/? [00:00<?, ?it/s]"
      ]
     },
     "metadata": {},
     "output_type": "display_data"
    },
    {
     "data": {
      "application/vnd.jupyter.widget-view+json": {
       "model_id": "5580b076e3aa49bf99a2698d073a37d7",
       "version_major": 2,
       "version_minor": 0
      },
      "text/plain": [
       "Validation: |          | 0/? [00:00<?, ?it/s]"
      ]
     },
     "metadata": {},
     "output_type": "display_data"
    },
    {
     "data": {
      "application/vnd.jupyter.widget-view+json": {
       "model_id": "3cfe39c155fe4090bc08c22f81684145",
       "version_major": 2,
       "version_minor": 0
      },
      "text/plain": [
       "Validation: |          | 0/? [00:00<?, ?it/s]"
      ]
     },
     "metadata": {},
     "output_type": "display_data"
    },
    {
     "data": {
      "application/vnd.jupyter.widget-view+json": {
       "model_id": "ca14e94bc9254e41a41ad522f366fee5",
       "version_major": 2,
       "version_minor": 0
      },
      "text/plain": [
       "Validation: |          | 0/? [00:00<?, ?it/s]"
      ]
     },
     "metadata": {},
     "output_type": "display_data"
    },
    {
     "data": {
      "application/vnd.jupyter.widget-view+json": {
       "model_id": "893b108edcc64b61b806d322c669babe",
       "version_major": 2,
       "version_minor": 0
      },
      "text/plain": [
       "Validation: |          | 0/? [00:00<?, ?it/s]"
      ]
     },
     "metadata": {},
     "output_type": "display_data"
    },
    {
     "data": {
      "application/vnd.jupyter.widget-view+json": {
       "model_id": "32528abb37a24e43acf51d8e59247ecf",
       "version_major": 2,
       "version_minor": 0
      },
      "text/plain": [
       "Validation: |          | 0/? [00:00<?, ?it/s]"
      ]
     },
     "metadata": {},
     "output_type": "display_data"
    },
    {
     "data": {
      "application/vnd.jupyter.widget-view+json": {
       "model_id": "d2a94bf0dae34df3b1ee0fc5ffe288c1",
       "version_major": 2,
       "version_minor": 0
      },
      "text/plain": [
       "Validation: |          | 0/? [00:00<?, ?it/s]"
      ]
     },
     "metadata": {},
     "output_type": "display_data"
    },
    {
     "name": "stderr",
     "output_type": "stream",
     "text": [
      "`predict()` was called with `n > output_chunk_length`: using auto-regression to forecast the values after `output_chunk_length` points. The model will access `(n - output_chunk_length)` future values of your `past_covariates` (relative to the first predicted time step). To hide this warning, set `show_warnings=False`.\n",
      "GPU available: False, used: False\n",
      "TPU available: False, using: 0 TPU cores\n",
      "HPU available: False, using: 0 HPUs\n"
     ]
    },
    {
     "data": {
      "application/vnd.jupyter.widget-view+json": {
       "model_id": "acb9c3e5e695425aab1c120589698f1a",
       "version_major": 2,
       "version_minor": 0
      },
      "text/plain": [
       "Predicting: |          | 0/? [00:00<?, ?it/s]"
      ]
     },
     "metadata": {},
     "output_type": "display_data"
    },
    {
     "name": "stdout",
     "output_type": "stream",
     "text": [
      "Validation RMSE: 2.42\n",
      "Best params: {'input_chunk_length': 48, 'output_chunk_length': 6, 'num_layers': 4, 'layer_widths': 512}\n",
      "Best validation RMSE: 2.42\n"
     ]
    }
   ],
   "source": [
    "  \n",
    "# 8. آموزش مدل با validation برای early stopping\n",
    "model.fit(\n",
    "        series=train_series,\n",
    "        past_covariates=train_cov,\n",
    "        val_series=val_series,\n",
    "        val_past_covariates=val_cov,\n",
    "        verbose=True\n",
    "    )\n",
    "    \n",
    "# پیش‌بینی روی validation برای ارزیابی\n",
    "pred_val = model.predict(n=len(val_series), series=train_series, past_covariates=train_cov[-params['input_chunk_length']:].append(val_cov))\n",
    "pred_val = scaler_series.inverse_transform(pred_val)\n",
    "val_series_orig = scaler_series.inverse_transform(val_series)\n",
    "    \n",
    "val_rmse = rmse(val_series_orig, pred_val)\n",
    "print(f\"Validation RMSE: {val_rmse:.2f}\")\n",
    "    \n",
    "# ذخیره بهترین مدل\n",
    "if val_rmse < best_val_rmse:\n",
    "    best_val_rmse = val_rmse\n",
    "    best_model = model\n",
    "    best_params = params\n",
    "\n",
    "print(f\"Best params: {best_params}\")\n",
    "print(f\"Best validation RMSE: {best_val_rmse:.2f}\")"
   ]
  },
  {
   "cell_type": "code",
   "execution_count": 15,
   "metadata": {},
   "outputs": [
    {
     "name": "stderr",
     "output_type": "stream",
     "text": [
      "`predict()` was called with `n > output_chunk_length`: using auto-regression to forecast the values after `output_chunk_length` points. The model will access `(n - output_chunk_length)` future values of your `past_covariates` (relative to the first predicted time step). To hide this warning, set `show_warnings=False`.\n",
      "GPU available: False, used: False\n",
      "TPU available: False, using: 0 TPU cores\n",
      "HPU available: False, using: 0 HPUs\n"
     ]
    },
    {
     "data": {
      "application/vnd.jupyter.widget-view+json": {
       "model_id": "ccc4f1541ec24c759e1479c0e44a0704",
       "version_major": 2,
       "version_minor": 0
      },
      "text/plain": [
       "Predicting: |          | 0/? [00:00<?, ?it/s]"
      ]
     },
     "metadata": {},
     "output_type": "display_data"
    }
   ],
   "source": [
    "# محاسبه طول مورد نیاز برای covariates\n",
    "required_covariates_length = len(train_series) + len(val_series) + len(test_series)\n",
    "\n",
    "# بررسی اینکه آیا covariates کافی هستند\n",
    "if len(covariates_scaled) < required_covariates_length:\n",
    "    raise ValueError(f\"طول covariates کافی نیست. مورد نیاز: {required_covariates_length}، موجود: {len(covariates_scaled)}\")\n",
    "\n",
    "# اجرای پیش‌بینی با covariates کامل\n",
    "pred = best_model.predict(\n",
    "    n=len(test_series),\n",
    "    series=train_series.append(val_series),\n",
    "    past_covariates=covariates_scaled[:required_covariates_length]\n",
    ")\n",
    "\n",
    "# تبدیل مقیاس خروجی‌ها\n",
    "pred = scaler_series.inverse_transform(pred)\n",
    "test_series = scaler_series.inverse_transform(test_series)\n"
   ]
  },
  {
   "cell_type": "code",
   "execution_count": 16,
   "metadata": {},
   "outputs": [
    {
     "name": "stdout",
     "output_type": "stream",
     "text": [
      "Test RMSE: 3.46\n",
      "Test MAE: 3.02\n"
     ]
    }
   ],
   "source": [
    "# 10. ارزیابی روی test\n",
    "print(f\"Test RMSE: {rmse(test_series, pred):.2f}\")\n",
    "print(f\"Test MAE: {mae(test_series, pred):.2f}\")"
   ]
  },
  {
   "cell_type": "code",
   "execution_count": 17,
   "metadata": {},
   "outputs": [],
   "source": [
    "# 11. تبدیل به DataFrame برای رسم\n",
    "df_test = pd.DataFrame({'oil temperature': test_series.values().flatten()}, index=test_series.time_index)\n",
    "df_pred = pd.DataFrame({'oil temperature': pred.values().flatten()}, index=pred.time_index)"
   ]
  },
  {
   "cell_type": "code",
   "execution_count": 18,
   "metadata": {},
   "outputs": [
    {
     "data": {
      "image/png": "[encoded data removed]",
      "text/plain": [
       "<Figure size 600x300 with 1 Axes>"
      ]
     },
     "metadata": {},
     "output_type": "display_data"
    }
   ],
   "source": [
    "# 12. رسم فقط یک روز از داده‌های تست و پیش‌بینی\n",
    "start_time = df_test.index[0].replace(hour=0, minute=0, second=0)\n",
    "end_time = start_time + pd.Timedelta(hours=23)\n",
    "\n",
    "df_test_day = df_test[(df_test.index >= start_time) & (df_test.index <= end_time)]\n",
    "df_pred_day = df_pred[(df_pred.index >= start_time) & (df_pred.index <= end_time)]\n",
    "\n",
    "plt.figure(figsize=(6, 3))\n",
    "plt.plot(df_test_day.index, df_test_day['oil temperature'], label='Actual', color='blue')\n",
    "plt.plot(df_pred_day.index, df_pred_day['oil temperature'], label='Predicted', color='orange')\n",
    "plt.legend()\n",
    "plt.title(f\"Actual vs Predicted Oil Temperature\\n{start_time.date()} 00:00 to 23:00\")\n",
    "plt.xlabel(\"Time\")\n",
    "plt.ylabel(\"Temperature\")\n",
    "plt.grid(True)\n",
    "plt.tight_layout()\n",
    "plt.show()"
   ]
  }
 ],
 "metadata": {
  "kernelspec": {
   "display_name": "test2",
   "language": "python",
   "name": "python3"
  },
  "language_info": {
   "codemirror_mode": {
    "name": "ipython",
    "version": 3
   },
   "file_extension": ".py",
   "mimetype": "text/x-python",
   "name": "python",
   "nbconvert_exporter": "python",
   "pygments_lexer": "ipython3",
   "version": "3.12.3"
  }
 },
 "nbformat": 4,
 "nbformat_minor": 2
}
