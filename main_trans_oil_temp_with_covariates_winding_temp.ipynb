{
  "cells": [
    {
      "cell_type": "markdown",
      "metadata": {
        "colab_type": "text",
        "id": "view-in-github"
      },
      "source": [
        "<a href=\"https://colab.research.google.com/github/reza-pishva/RNN-projects/blob/main/main_trans_oil_temp_with_covariates_winding_temp.ipynb\" target=\"_parent\"><img src=\"https://colab.research.google.com/assets/colab-badge.svg\" alt=\"Open In Colab\"/></a>"
      ]
    },
    {
      "cell_type": "code",
      "execution_count": 102,
      "metadata": {
        "id": "ui4cJsziFNqu"
      },
      "outputs": [],
      "source": [
        "import pandas as pd\n",
        "from darts import TimeSeries\n",
        "from darts.models import BlockRNNModel\n",
        "from darts.dataprocessing.transformers import Scaler\n",
        "from sklearn.preprocessing import MinMaxScaler\n",
        "from darts.metrics import rmse, mae\n",
        "import matplotlib.pyplot as plt"
      ]
    },
    {
      "cell_type": "code",
      "execution_count": 103,
      "metadata": {
        "id": "_egf_wDPFv2y"
      },
      "outputs": [],
      "source": [
        "df = pd.read_excel(\"main_trans.xlsx\")\n",
        "df['DateTime'] = pd.to_datetime(df['DateTime'], errors='coerce')\n",
        "df = df.dropna(subset=['DateTime'])"
      ]
    },
    {
      "cell_type": "code",
      "execution_count": 104,
      "metadata": {
        "id": "M2s4RAdtFv54"
      },
      "outputs": [],
      "source": [
        "target_date = pd.to_datetime('1/13/2023  00:00:00 AM')\n",
        "df_filtered = df[(df['DateTime'] >= target_date)]"
      ]
    },
    {
      "cell_type": "code",
      "execution_count": 105,
      "metadata": {
        "colab": {
          "base_uri": "https://localhost:8080/"
        },
        "id": "pXU3P1YOFv9D",
        "outputId": "a6cfd96b-2753-4f88-f19c-35aebcba2cfe"
      },
      "outputs": [
        {
          "name": "stderr",
          "output_type": "stream",
          "text": [
            "/tmp/ipython-input-639737280.py:2: FutureWarning: 'H' is deprecated and will be removed in a future version, please use 'h' instead.\n",
            "  df_resampled = df.resample('1H').mean()\n"
          ]
        }
      ],
      "source": [
        "df = df.set_index('DateTime')\n",
        "df_resampled = df.resample('1H').mean()"
      ]
    },
    {
      "cell_type": "code",
      "execution_count": 106,
      "metadata": {
        "id": "DxSf5L4pFwAF"
      },
      "outputs": [],
      "source": [
        "df_resampled = df_resampled.interpolate(method='linear')"
      ]
    },
    {
      "cell_type": "code",
      "execution_count": 107,
      "metadata": {
        "id": "LcrDRzEtFwC7"
      },
      "outputs": [],
      "source": [
        "series = TimeSeries.from_dataframe(df_resampled, value_cols='oil temperature', freq='h')\n",
        "covariates = TimeSeries.from_dataframe(df_resampled, value_cols=['winding temperature'], freq='h')"
      ]
    },
    {
      "cell_type": "code",
      "execution_count": 108,
      "metadata": {
        "id": "aNJ_3SidFwGY"
      },
      "outputs": [],
      "source": [
        "scaler_series = Scaler(MinMaxScaler())\n",
        "series_scaled = scaler_series.fit_transform(series)"
      ]
    },
    {
      "cell_type": "code",
      "execution_count": 109,
      "metadata": {
        "id": "zfbGPYy7YdCu"
      },
      "outputs": [],
      "source": [
        "scaler_cov = Scaler(MinMaxScaler())\n",
        "covariates_scaled = scaler_cov.fit_transform(covariates)"
      ]
    },
    {
      "cell_type": "code",
      "execution_count": 110,
      "metadata": {
        "id": "SUiG2FnDFwJt"
      },
      "outputs": [],
      "source": [
        "train_ratio = 0.95\n",
        "train_series, test_series = series_scaled.split_after(train_ratio)\n",
        "train_cov, test_cov = covariates_scaled.split_after(train_ratio)"
      ]
    },
    {
      "cell_type": "code",
      "execution_count": 111,
      "metadata": {
        "id": "7yopNOl3FwMr"
      },
      "outputs": [],
      "source": [
        "model = BlockRNNModel(\n",
        "    model='LSTM',\n",
        "    input_chunk_length=48,\n",
        "    output_chunk_length=12,\n",
        "    hidden_dim=32,\n",
        "    n_rnn_layers=3,\n",
        "    dropout=0.2,\n",
        "    n_epochs=40,\n",
        "    random_state=42\n",
        ")"
      ]
    },
    {
      "cell_type": "code",
      "execution_count": null,
      "metadata": {
        "colab": {
          "base_uri": "https://localhost:8080/",
          "height": 437,
          "referenced_widgets": [
            "cbc5daf338c0450397900a4a6b7185dd",
            "f4beec46226646c4a0a3ee5db97ea6d1",
            "e3ec7f3f8efd4327b186b9a5993c7a73",
            "5f51037cd5934a999b974eaa325174ca",
            "f27e0d885f7541cc8affddc28f928d09",
            "e0f66b1aa6254ee29dbec090669b3eaa",
            "89e4600290824bd883ba59c079a92d34",
            "b6eaafba61d541b096206e72e4e01de3",
            "ffbfc7d28aba480ab832d4b951f18474",
            "4fb1677e40aa44978c8a28f5e068b0f6",
            "70cfe9d1040e4c0cb0f3fabc018682fd"
          ]
        },
        "id": "7CW6vq05FwQj",
        "outputId": "2a026b0d-3e1f-40c9-af2d-6cfdb8b7abbb"
      },
      "outputs": [
        {
          "name": "stderr",
          "output_type": "stream",
          "text": [
            "INFO:pytorch_lightning.utilities.rank_zero:GPU available: True (cuda), used: True\n",
            "INFO:pytorch_lightning.utilities.rank_zero:TPU available: False, using: 0 TPU cores\n",
            "INFO:pytorch_lightning.utilities.rank_zero:HPU available: False, using: 0 HPUs\n",
            "INFO:pytorch_lightning.accelerators.cuda:LOCAL_RANK: 0 - CUDA_VISIBLE_DEVICES: [0]\n",
            "INFO:pytorch_lightning.callbacks.model_summary:\n",
            "  | Name            | Type             | Params | Mode \n",
            "-------------------------------------------------------------\n",
            "0 | criterion       | MSELoss          | 0      | train\n",
            "1 | train_criterion | MSELoss          | 0      | train\n",
            "2 | val_criterion   | MSELoss          | 0      | train\n",
            "3 | train_metrics   | MetricCollection | 0      | train\n",
            "4 | val_metrics     | MetricCollection | 0      | train\n",
            "5 | rnn             | LSTM             | 21.5 K | train\n",
            "6 | fc              | Sequential       | 396    | train\n",
            "-------------------------------------------------------------\n",
            "21.9 K    Trainable params\n",
            "0         Non-trainable params\n",
            "21.9 K    Total params\n",
            "0.088     Total estimated model params size (MB)\n",
            "8         Modules in train mode\n",
            "0         Modules in eval mode\n"
          ]
        },
        {
          "data": {
            "application/vnd.jupyter.widget-view+json": {
              "model_id": "cbc5daf338c0450397900a4a6b7185dd",
              "version_major": 2,
              "version_minor": 0
            },
            "text/plain": [
              "Training: |          | 0/? [00:00<?, ?it/s]"
            ]
          },
          "metadata": {},
          "output_type": "display_data"
        }
      ],
      "source": [
        "# model.fit(train_series)\n",
        "model.fit(series=train_series, past_covariates=train_cov, verbose=True)"
      ]
    },
    {
      "cell_type": "code",
      "execution_count": null,
      "metadata": {
        "id": "4jPu9Jg_GOcZ"
      },
      "outputs": [],
      "source": [
        "pred = model.predict(n=len(test_series), series=train_series, past_covariates=covariates_scaled)\n",
        "# pred = model.predict(n=len(test_series))"
      ]
    },
    {
      "cell_type": "code",
      "execution_count": null,
      "metadata": {
        "id": "58E1F1twGOfR"
      },
      "outputs": [],
      "source": [
        "pred = scaler_series.inverse_transform(pred)\n",
        "test_series = scaler_series.inverse_transform(test_series)"
      ]
    },
    {
      "cell_type": "code",
      "execution_count": null,
      "metadata": {
        "id": "5p-9k1POGOin"
      },
      "outputs": [],
      "source": [
        "print(f\"RMSE: {rmse(test_series, pred):.2f}\")\n",
        "print(f\"MAE: {mae(test_series, pred):.2f}\")"
      ]
    },
    {
      "cell_type": "code",
      "execution_count": null,
      "metadata": {
        "id": "CtZLlQkcH0eq"
      },
      "outputs": [],
      "source": [
        "df_test = pd.DataFrame({\n",
        "    'oil temperature': test_series.values().flatten()\n",
        "}, index=test_series.time_index)\n",
        "\n",
        "df_pred = pd.DataFrame({\n",
        "    'oil temperature': pred.values().flatten()\n",
        "}, index=pred.time_index)\n",
        "\n",
        "\n"
      ]
    },
    {
      "cell_type": "code",
      "execution_count": null,
      "metadata": {
        "id": "EcptRz3OH0h4"
      },
      "outputs": [],
      "source": [
        "plt.figure(figsize=(10, 4))\n",
        "plt.plot(df_test.index, df_test['oil temperature'], label='Actual', color='blue')\n",
        "plt.plot(df_pred.index, df_pred['oil temperature'], label='Predicted', color='orange')\n",
        "plt.legend()\n",
        "plt.title(\"Actual vs Predicted Oil Temperature\")\n",
        "plt.xlabel(\"Time\")\n",
        "plt.ylabel(\"Temperature\")\n",
        "plt.grid(True)\n",
        "plt.tight_layout()\n",
        "plt.show()\n"
      ]
    },
    {
      "cell_type": "code",
      "execution_count": null,
      "metadata": {
        "id": "VpxeIh4AFcSa"
      },
      "outputs": [],
      "source": [
        "# !pip install darts"
      ]
    },
    {
      "cell_type": "code",
      "execution_count": null,
      "metadata": {},
      "outputs": [],
      "source": [
        "# 🔍 اجرای 3 با پارامترها: {'input_chunk_length': 36, 'output_chunk_length': 12, 'hidden_dim': 64, 'dropout': 0.2}\n",
        "# 📉 RMSE: 2.53 | MAE: 1.94"
      ]
    }
  ],
  "metadata": {
    "accelerator": "GPU",
    "colab": {
      "authorship_tag": "ABX9TyPsCifSiDyeH9OARqdS1stm",
      "gpuType": "T4",
      "include_colab_link": true,
      "provenance": []
    },
    "kernelspec": {
      "display_name": "Python 3",
      "name": "python3"
    },
    "language_info": {
      "name": "python"
    },
    "widgets": {
      "application/vnd.jupyter.widget-state+json": {
        "4fb1677e40aa44978c8a28f5e068b0f6": {
          "model_module": "@jupyter-widgets/base",
          "model_module_version": "1.2.0",
          "model_name": "LayoutModel",
          "state": {
            "_model_module": "@jupyter-widgets/base",
            "_model_module_version": "1.2.0",
            "_model_name": "LayoutModel",
            "_view_count": null,
            "_view_module": "@jupyter-widgets/base",
            "_view_module_version": "1.2.0",
            "_view_name": "LayoutView",
            "align_content": null,
            "align_items": null,
            "align_self": null,
            "border": null,
            "bottom": null,
            "display": null,
            "flex": null,
            "flex_flow": null,
            "grid_area": null,
            "grid_auto_columns": null,
            "grid_auto_flow": null,
            "grid_auto_rows": null,
            "grid_column": null,
            "grid_gap": null,
            "grid_row": null,
            "grid_template_areas": null,
            "grid_template_columns": null,
            "grid_template_rows": null,
            "height": null,
            "justify_content": null,
            "justify_items": null,
            "left": null,
            "margin": null,
            "max_height": null,
            "max_width": null,
            "min_height": null,
            "min_width": null,
            "object_fit": null,
            "object_position": null,
            "order": null,
            "overflow": null,
            "overflow_x": null,
            "overflow_y": null,
            "padding": null,
            "right": null,
            "top": null,
            "visibility": null,
            "width": null
          }
        },
        "5f51037cd5934a999b974eaa325174ca": {
          "model_module": "@jupyter-widgets/controls",
          "model_module_version": "1.5.0",
          "model_name": "HTMLModel",
          "state": {
            "_dom_classes": [],
            "_model_module": "@jupyter-widgets/controls",
            "_model_module_version": "1.5.0",
            "_model_name": "HTMLModel",
            "_view_count": null,
            "_view_module": "@jupyter-widgets/controls",
            "_view_module_version": "1.5.0",
            "_view_name": "HTMLView",
            "description": "",
            "description_tooltip": null,
            "layout": "IPY_MODEL_4fb1677e40aa44978c8a28f5e068b0f6",
            "placeholder": "​",
            "style": "IPY_MODEL_70cfe9d1040e4c0cb0f3fabc018682fd",
            "value": " 640/694 [00:09&lt;00:00, 70.39it/s, train_loss=0.00119]"
          }
        },
        "70cfe9d1040e4c0cb0f3fabc018682fd": {
          "model_module": "@jupyter-widgets/controls",
          "model_module_version": "1.5.0",
          "model_name": "DescriptionStyleModel",
          "state": {
            "_model_module": "@jupyter-widgets/controls",
            "_model_module_version": "1.5.0",
            "_model_name": "DescriptionStyleModel",
            "_view_count": null,
            "_view_module": "@jupyter-widgets/base",
            "_view_module_version": "1.2.0",
            "_view_name": "StyleView",
            "description_width": ""
          }
        },
        "89e4600290824bd883ba59c079a92d34": {
          "model_module": "@jupyter-widgets/controls",
          "model_module_version": "1.5.0",
          "model_name": "DescriptionStyleModel",
          "state": {
            "_model_module": "@jupyter-widgets/controls",
            "_model_module_version": "1.5.0",
            "_model_name": "DescriptionStyleModel",
            "_view_count": null,
            "_view_module": "@jupyter-widgets/base",
            "_view_module_version": "1.2.0",
            "_view_name": "StyleView",
            "description_width": ""
          }
        },
        "b6eaafba61d541b096206e72e4e01de3": {
          "model_module": "@jupyter-widgets/base",
          "model_module_version": "1.2.0",
          "model_name": "LayoutModel",
          "state": {
            "_model_module": "@jupyter-widgets/base",
            "_model_module_version": "1.2.0",
            "_model_name": "LayoutModel",
            "_view_count": null,
            "_view_module": "@jupyter-widgets/base",
            "_view_module_version": "1.2.0",
            "_view_name": "LayoutView",
            "align_content": null,
            "align_items": null,
            "align_self": null,
            "border": null,
            "bottom": null,
            "display": null,
            "flex": "2",
            "flex_flow": null,
            "grid_area": null,
            "grid_auto_columns": null,
            "grid_auto_flow": null,
            "grid_auto_rows": null,
            "grid_column": null,
            "grid_gap": null,
            "grid_row": null,
            "grid_template_areas": null,
            "grid_template_columns": null,
            "grid_template_rows": null,
            "height": null,
            "justify_content": null,
            "justify_items": null,
            "left": null,
            "margin": null,
            "max_height": null,
            "max_width": null,
            "min_height": null,
            "min_width": null,
            "object_fit": null,
            "object_position": null,
            "order": null,
            "overflow": null,
            "overflow_x": null,
            "overflow_y": null,
            "padding": null,
            "right": null,
            "top": null,
            "visibility": null,
            "width": null
          }
        },
        "cbc5daf338c0450397900a4a6b7185dd": {
          "model_module": "@jupyter-widgets/controls",
          "model_module_version": "1.5.0",
          "model_name": "HBoxModel",
          "state": {
            "_dom_classes": [],
            "_model_module": "@jupyter-widgets/controls",
            "_model_module_version": "1.5.0",
            "_model_name": "HBoxModel",
            "_view_count": null,
            "_view_module": "@jupyter-widgets/controls",
            "_view_module_version": "1.5.0",
            "_view_name": "HBoxView",
            "box_style": "",
            "children": [
              "IPY_MODEL_f4beec46226646c4a0a3ee5db97ea6d1",
              "IPY_MODEL_e3ec7f3f8efd4327b186b9a5993c7a73",
              "IPY_MODEL_5f51037cd5934a999b974eaa325174ca"
            ],
            "layout": "IPY_MODEL_f27e0d885f7541cc8affddc28f928d09"
          }
        },
        "e0f66b1aa6254ee29dbec090669b3eaa": {
          "model_module": "@jupyter-widgets/base",
          "model_module_version": "1.2.0",
          "model_name": "LayoutModel",
          "state": {
            "_model_module": "@jupyter-widgets/base",
            "_model_module_version": "1.2.0",
            "_model_name": "LayoutModel",
            "_view_count": null,
            "_view_module": "@jupyter-widgets/base",
            "_view_module_version": "1.2.0",
            "_view_name": "LayoutView",
            "align_content": null,
            "align_items": null,
            "align_self": null,
            "border": null,
            "bottom": null,
            "display": null,
            "flex": null,
            "flex_flow": null,
            "grid_area": null,
            "grid_auto_columns": null,
            "grid_auto_flow": null,
            "grid_auto_rows": null,
            "grid_column": null,
            "grid_gap": null,
            "grid_row": null,
            "grid_template_areas": null,
            "grid_template_columns": null,
            "grid_template_rows": null,
            "height": null,
            "justify_content": null,
            "justify_items": null,
            "left": null,
            "margin": null,
            "max_height": null,
            "max_width": null,
            "min_height": null,
            "min_width": null,
            "object_fit": null,
            "object_position": null,
            "order": null,
            "overflow": null,
            "overflow_x": null,
            "overflow_y": null,
            "padding": null,
            "right": null,
            "top": null,
            "visibility": null,
            "width": null
          }
        },
        "e3ec7f3f8efd4327b186b9a5993c7a73": {
          "model_module": "@jupyter-widgets/controls",
          "model_module_version": "1.5.0",
          "model_name": "FloatProgressModel",
          "state": {
            "_dom_classes": [],
            "_model_module": "@jupyter-widgets/controls",
            "_model_module_version": "1.5.0",
            "_model_name": "FloatProgressModel",
            "_view_count": null,
            "_view_module": "@jupyter-widgets/controls",
            "_view_module_version": "1.5.0",
            "_view_name": "ProgressView",
            "bar_style": "",
            "description": "",
            "description_tooltip": null,
            "layout": "IPY_MODEL_b6eaafba61d541b096206e72e4e01de3",
            "max": 694,
            "min": 0,
            "orientation": "horizontal",
            "style": "IPY_MODEL_ffbfc7d28aba480ab832d4b951f18474",
            "value": 640
          }
        },
        "f27e0d885f7541cc8affddc28f928d09": {
          "model_module": "@jupyter-widgets/base",
          "model_module_version": "1.2.0",
          "model_name": "LayoutModel",
          "state": {
            "_model_module": "@jupyter-widgets/base",
            "_model_module_version": "1.2.0",
            "_model_name": "LayoutModel",
            "_view_count": null,
            "_view_module": "@jupyter-widgets/base",
            "_view_module_version": "1.2.0",
            "_view_name": "LayoutView",
            "align_content": null,
            "align_items": null,
            "align_self": null,
            "border": null,
            "bottom": null,
            "display": "inline-flex",
            "flex": null,
            "flex_flow": "row wrap",
            "grid_area": null,
            "grid_auto_columns": null,
            "grid_auto_flow": null,
            "grid_auto_rows": null,
            "grid_column": null,
            "grid_gap": null,
            "grid_row": null,
            "grid_template_areas": null,
            "grid_template_columns": null,
            "grid_template_rows": null,
            "height": null,
            "justify_content": null,
            "justify_items": null,
            "left": null,
            "margin": null,
            "max_height": null,
            "max_width": null,
            "min_height": null,
            "min_width": null,
            "object_fit": null,
            "object_position": null,
            "order": null,
            "overflow": null,
            "overflow_x": null,
            "overflow_y": null,
            "padding": null,
            "right": null,
            "top": null,
            "visibility": null,
            "width": "100%"
          }
        },
        "f4beec46226646c4a0a3ee5db97ea6d1": {
          "model_module": "@jupyter-widgets/controls",
          "model_module_version": "1.5.0",
          "model_name": "HTMLModel",
          "state": {
            "_dom_classes": [],
            "_model_module": "@jupyter-widgets/controls",
            "_model_module_version": "1.5.0",
            "_model_name": "HTMLModel",
            "_view_count": null,
            "_view_module": "@jupyter-widgets/controls",
            "_view_module_version": "1.5.0",
            "_view_name": "HTMLView",
            "description": "",
            "description_tooltip": null,
            "layout": "IPY_MODEL_e0f66b1aa6254ee29dbec090669b3eaa",
            "placeholder": "​",
            "style": "IPY_MODEL_89e4600290824bd883ba59c079a92d34",
            "value": "Epoch 3:  92%"
          }
        },
        "ffbfc7d28aba480ab832d4b951f18474": {
          "model_module": "@jupyter-widgets/controls",
          "model_module_version": "1.5.0",
          "model_name": "ProgressStyleModel",
          "state": {
            "_model_module": "@jupyter-widgets/controls",
            "_model_module_version": "1.5.0",
            "_model_name": "ProgressStyleModel",
            "_view_count": null,
            "_view_module": "@jupyter-widgets/base",
            "_view_module_version": "1.2.0",
            "_view_name": "StyleView",
            "bar_color": null,
            "description_width": ""
          }
        }
      }
    }
  },
  "nbformat": 4,
  "nbformat_minor": 0
}
