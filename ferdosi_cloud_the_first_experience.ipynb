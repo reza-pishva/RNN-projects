{
 "cells": [
  {
   "cell_type": "code",
   "execution_count": 1,
   "id": "8a5565be-4c32-488d-8f51-f2cbaa882cc9",
   "metadata": {},
   "outputs": [
    {
     "name": "stdout",
     "output_type": "stream",
     "text": [
      "Looking in indexes: https://pypi.org/simple, https://pypi.ngc.nvidia.com\n",
      "\u001b[33mWARNING: Retrying (Retry(total=4, connect=None, read=None, redirect=None, status=None)) after connection broken by 'ProtocolError('Connection aborted.', ConnectionResetError(104, 'Connection reset by peer'))': /darts/\u001b[0m\u001b[33m\n",
      "Collecting darts\n",
      "  Downloading darts-0.37.1-py3-none-any.whl.metadata (60 kB)\n",
      "Collecting holidays>=0.11.1 (from darts)\n",
      "  Downloading holidays-0.81-py3-none-any.whl.metadata (49 kB)\n",
      "Requirement already satisfied: joblib>=0.16.0 in /opt/conda/lib/python3.12/site-packages (from darts) (1.4.2)\n",
      "Requirement already satisfied: matplotlib>=3.3.0 in /opt/conda/lib/python3.12/site-packages (from darts) (3.10.0)\n",
      "Requirement already satisfied: narwhals>=1.25.1 in /opt/conda/lib/python3.12/site-packages (from darts) (1.27.1)\n",
      "Collecting nfoursid>=1.0.0 (from darts)\n",
      "  Downloading nfoursid-1.0.2-py3-none-any.whl.metadata (1.9 kB)\n",
      "Requirement already satisfied: numpy>=1.19.0 in /opt/conda/lib/python3.12/site-packages (from darts) (2.0.2)\n",
      "Requirement already satisfied: pandas>=1.0.5 in /opt/conda/lib/python3.12/site-packages (from darts) (2.2.3)\n",
      "Collecting pyod>=0.9.5 (from darts)\n",
      "  Downloading pyod-2.0.5-py3-none-any.whl.metadata (46 kB)\n",
      "Requirement already satisfied: requests>=2.22.0 in /opt/conda/lib/python3.12/site-packages (from darts) (2.32.3)\n",
      "Requirement already satisfied: scikit-learn>=1.6.0 in /opt/conda/lib/python3.12/site-packages (from darts) (1.6.1)\n",
      "Requirement already satisfied: scipy>=1.3.2 in /opt/conda/lib/python3.12/site-packages (from darts) (1.15.2)\n",
      "Collecting shap>=0.40.0 (from darts)\n",
      "  Downloading shap-0.48.0-cp312-cp312-manylinux_2_17_x86_64.manylinux2014_x86_64.whl.metadata (25 kB)\n",
      "Collecting statsforecast>=1.4 (from darts)\n",
      "  Downloading statsforecast-2.0.2-cp312-cp312-manylinux_2_27_x86_64.manylinux_2_28_x86_64.whl.metadata (29 kB)\n",
      "Requirement already satisfied: statsmodels>=0.14.0 in /opt/conda/lib/python3.12/site-packages (from darts) (0.14.4)\n",
      "Requirement already satisfied: tqdm>=4.60.0 in /opt/conda/lib/python3.12/site-packages (from darts) (4.67.1)\n",
      "Requirement already satisfied: typing-extensions in /opt/conda/lib/python3.12/site-packages (from darts) (4.12.2)\n",
      "Collecting xarray>=0.17.0 (from darts)\n",
      "  Downloading xarray-2025.9.0-py3-none-any.whl.metadata (12 kB)\n",
      "Collecting xgboost>=2.1.4 (from darts)\n",
      "  Downloading xgboost-3.0.5-py3-none-manylinux_2_28_x86_64.whl.metadata (2.1 kB)\n",
      "Collecting pytorch-lightning<2.5.3,>=1.5.0 (from darts)\n",
      "  Downloading pytorch_lightning-2.5.2-py3-none-any.whl.metadata (21 kB)\n",
      "Collecting tensorboardX>=2.1 (from darts)\n",
      "  Downloading tensorboardx-2.6.4-py3-none-any.whl.metadata (6.2 kB)\n",
      "Requirement already satisfied: torch>=1.8.0 in /opt/conda/lib/python3.12/site-packages (from darts) (2.6.0+cu126)\n",
      "Requirement already satisfied: python-dateutil in /opt/conda/lib/python3.12/site-packages (from holidays>=0.11.1->darts) (2.9.0.post0)\n",
      "Requirement already satisfied: contourpy>=1.0.1 in /opt/conda/lib/python3.12/site-packages (from matplotlib>=3.3.0->darts) (1.3.1)\n",
      "Requirement already satisfied: cycler>=0.10 in /opt/conda/lib/python3.12/site-packages (from matplotlib>=3.3.0->darts) (0.12.1)\n",
      "Requirement already satisfied: fonttools>=4.22.0 in /opt/conda/lib/python3.12/site-packages (from matplotlib>=3.3.0->darts) (4.56.0)\n",
      "Requirement already satisfied: kiwisolver>=1.3.1 in /opt/conda/lib/python3.12/site-packages (from matplotlib>=3.3.0->darts) (1.4.8)\n",
      "Requirement already satisfied: packaging>=20.0 in /opt/conda/lib/python3.12/site-packages (from matplotlib>=3.3.0->darts) (24.2)\n",
      "Requirement already satisfied: pillow>=8 in /opt/conda/lib/python3.12/site-packages (from matplotlib>=3.3.0->darts) (11.1.0)\n",
      "Requirement already satisfied: pyparsing>=2.3.1 in /opt/conda/lib/python3.12/site-packages (from matplotlib>=3.3.0->darts) (3.2.1)\n",
      "Requirement already satisfied: pytz>=2020.1 in /opt/conda/lib/python3.12/site-packages (from pandas>=1.0.5->darts) (2024.1)\n",
      "Requirement already satisfied: tzdata>=2022.7 in /opt/conda/lib/python3.12/site-packages (from pandas>=1.0.5->darts) (2025.1)\n",
      "Requirement already satisfied: numba>=0.51 in /opt/conda/lib/python3.12/site-packages (from pyod>=0.9.5->darts) (0.61.0)\n",
      "Requirement already satisfied: PyYAML>=5.4 in /opt/conda/lib/python3.12/site-packages (from pytorch-lightning<2.5.3,>=1.5.0->darts) (6.0.2)\n",
      "Requirement already satisfied: fsspec>=2022.5.0 in /opt/conda/lib/python3.12/site-packages (from fsspec[http]>=2022.5.0->pytorch-lightning<2.5.3,>=1.5.0->darts) (2025.2.0)\n",
      "Collecting torchmetrics>=0.7.0 (from pytorch-lightning<2.5.3,>=1.5.0->darts)\n",
      "  Downloading torchmetrics-1.8.2-py3-none-any.whl.metadata (22 kB)\n",
      "Collecting lightning-utilities>=0.10.0 (from pytorch-lightning<2.5.3,>=1.5.0->darts)\n",
      "  Downloading lightning_utilities-0.15.2-py3-none-any.whl.metadata (5.7 kB)\n",
      "Requirement already satisfied: charset_normalizer<4,>=2 in /opt/conda/lib/python3.12/site-packages (from requests>=2.22.0->darts) (3.4.1)\n",
      "Requirement already satisfied: idna<4,>=2.5 in /opt/conda/lib/python3.12/site-packages (from requests>=2.22.0->darts) (3.10)\n",
      "Requirement already satisfied: urllib3<3,>=1.21.1 in /opt/conda/lib/python3.12/site-packages (from requests>=2.22.0->darts) (2.3.0)\n",
      "Requirement already satisfied: certifi>=2017.4.17 in /opt/conda/lib/python3.12/site-packages (from requests>=2.22.0->darts) (2025.1.31)\n",
      "Requirement already satisfied: threadpoolctl>=3.1.0 in /opt/conda/lib/python3.12/site-packages (from scikit-learn>=1.6.0->darts) (3.5.0)\n",
      "Collecting slicer==0.0.8 (from shap>=0.40.0->darts)\n",
      "  Downloading slicer-0.0.8-py3-none-any.whl.metadata (4.0 kB)\n",
      "Requirement already satisfied: cloudpickle in /opt/conda/lib/python3.12/site-packages (from shap>=0.40.0->darts) (3.1.1)\n",
      "Collecting coreforecast>=0.0.12 (from statsforecast>=1.4->darts)\n",
      "  Downloading coreforecast-0.0.16-cp312-cp312-manylinux_2_17_x86_64.manylinux2014_x86_64.whl.metadata (3.7 kB)\n",
      "Collecting fugue>=0.8.1 (from statsforecast>=1.4->darts)\n",
      "  Downloading fugue-0.9.1-py3-none-any.whl.metadata (18 kB)\n",
      "Collecting utilsforecast>=0.1.4 (from statsforecast>=1.4->darts)\n",
      "  Downloading utilsforecast-0.2.12-py3-none-any.whl.metadata (7.6 kB)\n",
      "Requirement already satisfied: patsy>=0.5.6 in /opt/conda/lib/python3.12/site-packages (from statsmodels>=0.14.0->darts) (1.0.1)\n",
      "Requirement already satisfied: protobuf>=3.20 in /opt/conda/lib/python3.12/site-packages (from tensorboardX>=2.1->darts) (5.28.3)\n",
      "Requirement already satisfied: filelock in /opt/conda/lib/python3.12/site-packages (from torch>=1.8.0->darts) (3.13.1)\n",
      "Requirement already satisfied: setuptools in /opt/conda/lib/python3.12/site-packages (from torch>=1.8.0->darts) (75.8.2)\n",
      "Requirement already satisfied: sympy==1.13.1 in /opt/conda/lib/python3.12/site-packages (from torch>=1.8.0->darts) (1.13.1)\n",
      "Requirement already satisfied: networkx in /opt/conda/lib/python3.12/site-packages (from torch>=1.8.0->darts) (3.4.2)\n",
      "Requirement already satisfied: jinja2 in /opt/conda/lib/python3.12/site-packages (from torch>=1.8.0->darts) (3.1.5)\n",
      "Requirement already satisfied: nvidia-cuda-nvrtc-cu12==12.6.77 in /opt/conda/lib/python3.12/site-packages (from torch>=1.8.0->darts) (12.6.77)\n",
      "Requirement already satisfied: nvidia-cuda-runtime-cu12==12.6.77 in /opt/conda/lib/python3.12/site-packages (from torch>=1.8.0->darts) (12.6.77)\n",
      "Requirement already satisfied: nvidia-cuda-cupti-cu12==12.6.80 in /opt/conda/lib/python3.12/site-packages (from torch>=1.8.0->darts) (12.6.80)\n",
      "Requirement already satisfied: nvidia-cudnn-cu12==9.5.1.17 in /opt/conda/lib/python3.12/site-packages (from torch>=1.8.0->darts) (9.5.1.17)\n",
      "Requirement already satisfied: nvidia-cublas-cu12==12.6.4.1 in /opt/conda/lib/python3.12/site-packages (from torch>=1.8.0->darts) (12.6.4.1)\n",
      "Requirement already satisfied: nvidia-cufft-cu12==11.3.0.4 in /opt/conda/lib/python3.12/site-packages (from torch>=1.8.0->darts) (11.3.0.4)\n",
      "Requirement already satisfied: nvidia-curand-cu12==10.3.7.77 in /opt/conda/lib/python3.12/site-packages (from torch>=1.8.0->darts) (10.3.7.77)\n",
      "Requirement already satisfied: nvidia-cusolver-cu12==11.7.1.2 in /opt/conda/lib/python3.12/site-packages (from torch>=1.8.0->darts) (11.7.1.2)\n",
      "Requirement already satisfied: nvidia-cusparse-cu12==12.5.4.2 in /opt/conda/lib/python3.12/site-packages (from torch>=1.8.0->darts) (12.5.4.2)\n",
      "Requirement already satisfied: nvidia-cusparselt-cu12==0.6.3 in /opt/conda/lib/python3.12/site-packages (from torch>=1.8.0->darts) (0.6.3)\n",
      "Requirement already satisfied: nvidia-nccl-cu12==2.21.5 in /opt/conda/lib/python3.12/site-packages (from torch>=1.8.0->darts) (2.21.5)\n",
      "Requirement already satisfied: nvidia-nvtx-cu12==12.6.77 in /opt/conda/lib/python3.12/site-packages (from torch>=1.8.0->darts) (12.6.77)\n",
      "Requirement already satisfied: nvidia-nvjitlink-cu12==12.6.85 in /opt/conda/lib/python3.12/site-packages (from torch>=1.8.0->darts) (12.6.85)\n",
      "Requirement already satisfied: triton==3.2.0 in /opt/conda/lib/python3.12/site-packages (from torch>=1.8.0->darts) (3.2.0)\n",
      "Requirement already satisfied: mpmath<1.4,>=1.1.0 in /opt/conda/lib/python3.12/site-packages (from sympy==1.13.1->torch>=1.8.0->darts) (1.3.0)\n",
      "Requirement already satisfied: aiohttp!=4.0.0a0,!=4.0.0a1 in /opt/conda/lib/python3.12/site-packages (from fsspec[http]>=2022.5.0->pytorch-lightning<2.5.3,>=1.5.0->darts) (3.11.13)\n",
      "Collecting triad>=0.9.7 (from fugue>=0.8.1->statsforecast>=1.4->darts)\n",
      "  Downloading triad-0.9.8-py3-none-any.whl.metadata (6.3 kB)\n",
      "Collecting adagio>=0.2.4 (from fugue>=0.8.1->statsforecast>=1.4->darts)\n",
      "  Downloading adagio-0.2.6-py3-none-any.whl.metadata (1.8 kB)\n",
      "Requirement already satisfied: llvmlite<0.45,>=0.44.0dev0 in /opt/conda/lib/python3.12/site-packages (from numba>=0.51->pyod>=0.9.5->darts) (0.44.0)\n",
      "Requirement already satisfied: six>=1.5 in /opt/conda/lib/python3.12/site-packages (from python-dateutil->holidays>=0.11.1->darts) (1.17.0)\n",
      "Requirement already satisfied: MarkupSafe>=2.0 in /opt/conda/lib/python3.12/site-packages (from jinja2->torch>=1.8.0->darts) (3.0.2)\n",
      "Requirement already satisfied: aiohappyeyeballs>=2.3.0 in /opt/conda/lib/python3.12/site-packages (from aiohttp!=4.0.0a0,!=4.0.0a1->fsspec[http]>=2022.5.0->pytorch-lightning<2.5.3,>=1.5.0->darts) (2.4.6)\n",
      "Requirement already satisfied: aiosignal>=1.1.2 in /opt/conda/lib/python3.12/site-packages (from aiohttp!=4.0.0a0,!=4.0.0a1->fsspec[http]>=2022.5.0->pytorch-lightning<2.5.3,>=1.5.0->darts) (1.3.2)\n",
      "Requirement already satisfied: attrs>=17.3.0 in /opt/conda/lib/python3.12/site-packages (from aiohttp!=4.0.0a0,!=4.0.0a1->fsspec[http]>=2022.5.0->pytorch-lightning<2.5.3,>=1.5.0->darts) (25.1.0)\n",
      "Requirement already satisfied: frozenlist>=1.1.1 in /opt/conda/lib/python3.12/site-packages (from aiohttp!=4.0.0a0,!=4.0.0a1->fsspec[http]>=2022.5.0->pytorch-lightning<2.5.3,>=1.5.0->darts) (1.5.0)\n",
      "Requirement already satisfied: multidict<7.0,>=4.5 in /opt/conda/lib/python3.12/site-packages (from aiohttp!=4.0.0a0,!=4.0.0a1->fsspec[http]>=2022.5.0->pytorch-lightning<2.5.3,>=1.5.0->darts) (6.1.0)\n",
      "Requirement already satisfied: propcache>=0.2.0 in /opt/conda/lib/python3.12/site-packages (from aiohttp!=4.0.0a0,!=4.0.0a1->fsspec[http]>=2022.5.0->pytorch-lightning<2.5.3,>=1.5.0->darts) (0.2.1)\n",
      "Requirement already satisfied: yarl<2.0,>=1.17.0 in /opt/conda/lib/python3.12/site-packages (from aiohttp!=4.0.0a0,!=4.0.0a1->fsspec[http]>=2022.5.0->pytorch-lightning<2.5.3,>=1.5.0->darts) (1.18.3)\n",
      "Requirement already satisfied: pyarrow>=6.0.1 in /opt/conda/lib/python3.12/site-packages (from triad>=0.9.7->fugue>=0.8.1->statsforecast>=1.4->darts) (19.0.1)\n",
      "Collecting fs (from triad>=0.9.7->fugue>=0.8.1->statsforecast>=1.4->darts)\n",
      "  Downloading fs-2.4.16-py2.py3-none-any.whl.metadata (6.3 kB)\n",
      "Collecting appdirs~=1.4.3 (from fs->triad>=0.9.7->fugue>=0.8.1->statsforecast>=1.4->darts)\n",
      "  Downloading appdirs-1.4.4-py2.py3-none-any.whl.metadata (9.0 kB)\n",
      "Downloading darts-0.37.1-py3-none-any.whl (1.1 MB)\n",
      "\u001b[2K   \u001b[90m━━━━━━━━━━━━━━━━━━━━━━━━━━━━━━━━━━━━━━━━\u001b[0m \u001b[32m1.1/1.1 MB\u001b[0m \u001b[31m4.8 MB/s\u001b[0m eta \u001b[36m0:00:00\u001b[0m-:--:--\u001b[0m\n",
      "Downloading holidays-0.81-py3-none-any.whl (1.3 MB)\n",
      "\u001b[2K   \u001b[90m━━━━━━━━━━━━━━━━━━━━━━━━━━━━━━━━━━━━━━━━\u001b[0m \u001b[32m1.3/1.3 MB\u001b[0m \u001b[31m11.8 MB/s\u001b[0m eta \u001b[36m0:00:00\u001b[0m\n",
      "Downloading nfoursid-1.0.2-py3-none-any.whl (18 kB)\n",
      "Downloading pyod-2.0.5-py3-none-any.whl (200 kB)\n",
      "Downloading pytorch_lightning-2.5.2-py3-none-any.whl (825 kB)\n",
      "\u001b[2K   \u001b[90m━━━━━━━━━━━━━━━━━━━━━━━━━━━━━━━━━━━━━━━━\u001b[0m \u001b[32m825.4/825.4 kB\u001b[0m \u001b[31m26.7 MB/s\u001b[0m eta \u001b[36m0:00:00\u001b[0m\n",
      "Downloading shap-0.48.0-cp312-cp312-manylinux_2_17_x86_64.manylinux2014_x86_64.whl (1.0 MB)\n",
      "\u001b[2K   \u001b[90m━━━━━━━━━━━━━━━━━━━━━━━━━━━━━━━━━━━━━━━━\u001b[0m \u001b[32m1.0/1.0 MB\u001b[0m \u001b[31m26.6 MB/s\u001b[0m eta \u001b[36m0:00:00\u001b[0m\n",
      "Downloading slicer-0.0.8-py3-none-any.whl (15 kB)\n",
      "Downloading statsforecast-2.0.2-cp312-cp312-manylinux_2_27_x86_64.manylinux_2_28_x86_64.whl (344 kB)\n",
      "Downloading tensorboardx-2.6.4-py3-none-any.whl (87 kB)\n",
      "Downloading xarray-2025.9.0-py3-none-any.whl (1.3 MB)\n",
      "\u001b[2K   \u001b[90m━━━━━━━━━━━━━━━━━━━━━━━━━━━━━━━━━━━━━━━━\u001b[0m \u001b[32m1.3/1.3 MB\u001b[0m \u001b[31m25.9 MB/s\u001b[0m eta \u001b[36m0:00:00\u001b[0m\n",
      "Downloading xgboost-3.0.5-py3-none-manylinux_2_28_x86_64.whl (94.9 MB)\n",
      "\u001b[2K   \u001b[90m━━━━━━━━━━━━━━━━━━━━━━━━━━━━━━━━━━━━━━━━\u001b[0m \u001b[32m94.9/94.9 MB\u001b[0m \u001b[31m23.4 MB/s\u001b[0m eta \u001b[36m0:00:00\u001b[0m00:01\u001b[0m00:01\u001b[0m\n",
      "Downloading coreforecast-0.0.16-cp312-cp312-manylinux_2_17_x86_64.manylinux2014_x86_64.whl (287 kB)\n",
      "Downloading fugue-0.9.1-py3-none-any.whl (278 kB)\n",
      "Downloading lightning_utilities-0.15.2-py3-none-any.whl (29 kB)\n",
      "Downloading torchmetrics-1.8.2-py3-none-any.whl (983 kB)\n",
      "\u001b[2K   \u001b[90m━━━━━━━━━━━━━━━━━━━━━━━━━━━━━━━━━━━━━━━━\u001b[0m \u001b[32m983.2/983.2 kB\u001b[0m \u001b[31m25.9 MB/s\u001b[0m eta \u001b[36m0:00:00\u001b[0m\n",
      "Downloading utilsforecast-0.2.12-py3-none-any.whl (42 kB)\n",
      "Downloading adagio-0.2.6-py3-none-any.whl (19 kB)\n",
      "Downloading triad-0.9.8-py3-none-any.whl (62 kB)\n",
      "Downloading fs-2.4.16-py2.py3-none-any.whl (135 kB)\n",
      "Downloading appdirs-1.4.4-py2.py3-none-any.whl (9.6 kB)\n",
      "Installing collected packages: appdirs, tensorboardX, slicer, lightning-utilities, fs, coreforecast, xgboost, holidays, xarray, utilsforecast, triad, shap, pyod, nfoursid, torchmetrics, adagio, pytorch-lightning, fugue, statsforecast, darts\n",
      "Successfully installed adagio-0.2.6 appdirs-1.4.4 coreforecast-0.0.16 darts-0.37.1 fs-2.4.16 fugue-0.9.1 holidays-0.81 lightning-utilities-0.15.2 nfoursid-1.0.2 pyod-2.0.5 pytorch-lightning-2.5.2 shap-0.48.0 slicer-0.0.8 statsforecast-2.0.2 tensorboardX-2.6.4 torchmetrics-1.8.2 triad-0.9.8 utilsforecast-0.2.12 xarray-2025.9.0 xgboost-3.0.5\n"
     ]
    }
   ],
   "source": [
    "# !pip install darts"
   ]
  },
  {
   "cell_type": "code",
   "execution_count": 2,
   "id": "223106b8-af35-45cd-91a2-772a64377973",
   "metadata": {},
   "outputs": [],
   "source": [
    "import pandas as pd\n",
    "from darts import TimeSeries\n",
    "from darts.models import NBEATSModel\n",
    "from darts.dataprocessing.transformers import Scaler\n",
    "from sklearn.preprocessing import MinMaxScaler\n",
    "from darts.metrics import rmse, mae\n",
    "import matplotlib.pyplot as plt\n",
    "import random\n",
    "from pytorch_lightning.callbacks import EarlyStopping\n",
    "import torch"
   ]
  },
  {
   "cell_type": "code",
   "execution_count": 3,
   "id": "095c3347-c5d8-4cbe-906d-85b8e7bc67ad",
   "metadata": {},
   "outputs": [],
   "source": [
    "# 1. خواندن داده\n",
    "df = pd.read_excel(\"main_trans.xlsx\")\n",
    "df['DateTime'] = pd.to_datetime(df['DateTime'], errors='coerce')\n",
    "df = df.dropna(subset=['DateTime'])"
   ]
  },
  {
   "cell_type": "code",
   "execution_count": 4,
   "id": "8a8f44c4-0d7b-4dde-9627-adca5cd23e86",
   "metadata": {},
   "outputs": [],
   "source": [
    "# 2. فیلتر بازه زمانی\n",
    "target_date = pd.to_datetime('2023-9-01 00:00:00')\n",
    "df_filtered = df[df['DateTime'] >= target_date]"
   ]
  },
  {
   "cell_type": "code",
   "execution_count": 5,
   "id": "9056ef83-bc86-42b7-9aef-5dce73b903ee",
   "metadata": {},
   "outputs": [
    {
     "name": "stderr",
     "output_type": "stream",
     "text": [
      "/tmp/ipykernel_936/4011370313.py:2: FutureWarning: 'H' is deprecated and will be removed in a future version, please use 'h' instead.\n",
      "  df_filtered = df_filtered.set_index('DateTime').resample('1H').mean()\n"
     ]
    }
   ],
   "source": [
    "# 3. بازنمونه‌گیری و پر کردن داده‌های خالی\n",
    "df_filtered = df_filtered.set_index('DateTime').resample('1H').mean()\n",
    "df_filtered = df_filtered.interpolate(method='linear')"
   ]
  },
  {
   "cell_type": "code",
   "execution_count": 6,
   "id": "c02c2185-db2e-42fa-a711-43aaee02f05e",
   "metadata": {},
   "outputs": [],
   "source": [
    "# 4. ساخت سری هدف و covariates\n",
    "series = TimeSeries.from_dataframe(df_filtered, value_cols='oil temperature', freq='h')\n",
    "covariates = TimeSeries.from_dataframe(df_filtered, value_cols=['winding temperature', 'tap position'], freq='h')"
   ]
  },
  {
   "cell_type": "code",
   "execution_count": 7,
   "id": "abd90389-911f-40d8-8ff6-ff4803185958",
   "metadata": {},
   "outputs": [],
   "source": [
    "# 5. نرمال‌سازی\n",
    "scaler_series = Scaler(MinMaxScaler())\n",
    "series_scaled = scaler_series.fit_transform(series)\n",
    "\n",
    "scaler_cov = Scaler(MinMaxScaler())\n",
    "covariates_scaled = scaler_cov.fit_transform(covariates)"
   ]
  },
  {
   "cell_type": "code",
   "execution_count": 8,
   "id": "1ea7f065-6a21-4100-af39-cc971fd1334c",
   "metadata": {},
   "outputs": [],
   "source": [
    "# 6. تقسیم داده‌ها به train, val, test\n",
    "train_ratio = 0.8\n",
    "val_ratio = 0.1\n",
    "train_series, temp_series = series_scaled.split_after(train_ratio)\n",
    "val_series, test_series = temp_series.split_after(val_ratio / (1 - train_ratio))\n",
    "train_cov, temp_cov = covariates_scaled.split_after(train_ratio)\n",
    "val_cov, test_cov = temp_cov.split_after(val_ratio / (1 - train_ratio))"
   ]
  },
  {
   "cell_type": "code",
   "execution_count": 9,
   "id": "6cc35c06-a027-4af6-98d9-18d6c6b39497",
   "metadata": {},
   "outputs": [],
   "source": [
    "# تعریف فضای پارامترها برای random search\n",
    "param_space = {\n",
    "    'input_chunk_length': [24, 48, 72],\n",
    "    'output_chunk_length': [6, 12, 24],   \n",
    "    'num_layers': [2, 4, 6],\n",
    "    'layer_widths': [256, 512, 1024]\n",
    "}"
   ]
  },
  {
   "cell_type": "code",
   "execution_count": 13,
   "id": "024f9072-3b60-4d5e-98da-b60b49928408",
   "metadata": {},
   "outputs": [],
   "source": [
    "# تعداد آزمون‌های random search\n",
    "n_trials =10\n",
    "\n",
    "best_model = None\n",
    "best_params = None\n",
    "best_val_rmse = float('inf')"
   ]
  },
  {
   "cell_type": "code",
   "execution_count": 14,
   "id": "59fde652-be67-4a84-a843-71f1566ba72f",
   "metadata": {},
   "outputs": [
    {
     "name": "stdout",
     "output_type": "stream",
     "text": [
      "Testing params: {'input_chunk_length': 72, 'output_chunk_length': 6, 'num_layers': 4, 'layer_widths': 512}\n",
      "Testing params: {'input_chunk_length': 48, 'output_chunk_length': 12, 'num_layers': 2, 'layer_widths': 512}\n",
      "Testing params: {'input_chunk_length': 24, 'output_chunk_length': 6, 'num_layers': 4, 'layer_widths': 256}\n",
      "Testing params: {'input_chunk_length': 72, 'output_chunk_length': 6, 'num_layers': 4, 'layer_widths': 256}\n",
      "Testing params: {'input_chunk_length': 24, 'output_chunk_length': 6, 'num_layers': 2, 'layer_widths': 256}\n",
      "Testing params: {'input_chunk_length': 72, 'output_chunk_length': 24, 'num_layers': 2, 'layer_widths': 256}\n",
      "Testing params: {'input_chunk_length': 24, 'output_chunk_length': 6, 'num_layers': 2, 'layer_widths': 512}\n",
      "Testing params: {'input_chunk_length': 72, 'output_chunk_length': 12, 'num_layers': 2, 'layer_widths': 256}\n",
      "Testing params: {'input_chunk_length': 48, 'output_chunk_length': 6, 'num_layers': 2, 'layer_widths': 512}\n",
      "Testing params: {'input_chunk_length': 72, 'output_chunk_length': 6, 'num_layers': 6, 'layer_widths': 1024}\n"
     ]
    }
   ],
   "source": [
    "# 7. Random Search برای تیونینگ\n",
    "for _ in range(n_trials):\n",
    "    # انتخاب random پارامترها\n",
    "    params = {k: random.choice(v) for k, v in param_space.items()}\n",
    "    print(f\"Testing params: {params}\")\n",
    "    \n",
    "    # ساخت مدل با early stopping\n",
    "    pl_trainer_kwargs = {\n",
    "        \"callbacks\": [EarlyStopping(monitor=\"val_loss\", patience=5, mode=\"min\")],\n",
    "        \"accelerator\": \"gpu\" if torch.cuda.is_available() else \"cpu\",\n",
    "        \"devices\": 1\n",
    "    }\n",
    "    \n",
    "    model = NBEATSModel(\n",
    "        input_chunk_length=params['input_chunk_length'],\n",
    "        output_chunk_length=params['output_chunk_length'],\n",
    "        n_epochs=100,  # حداکثر epochs، early stopping متوقف می‌کنه\n",
    "        num_stacks=30,\n",
    "        num_blocks=3,\n",
    "        num_layers=params['num_layers'],\n",
    "        layer_widths=params['layer_widths'],\n",
    "        batch_size=32,\n",
    "        random_state=42,\n",
    "        model_name=\"oil-temp-nbeats\",\n",
    "        pl_trainer_kwargs=pl_trainer_kwargs\n",
    "    )"
   ]
  },
  {
   "cell_type": "code",
   "execution_count": 15,
   "id": "85ddc336-9a80-4ab9-b945-dcade4f9f066",
   "metadata": {},
   "outputs": [
    {
     "name": "stderr",
     "output_type": "stream",
     "text": [
      "GPU available: True (cuda), used: True\n",
      "TPU available: False, using: 0 TPU cores\n",
      "HPU available: False, using: 0 HPUs\n",
      "LOCAL_RANK: 0 - CUDA_VISIBLE_DEVICES: [0]\n",
      "\n",
      "  | Name            | Type             | Params | Mode \n",
      "-------------------------------------------------------------\n",
      "0 | criterion       | MSELoss          | 0      | train\n",
      "1 | train_criterion | MSELoss          | 0      | train\n",
      "2 | val_criterion   | MSELoss          | 0      | train\n",
      "3 | train_metrics   | MetricCollection | 0      | train\n",
      "4 | val_metrics     | MetricCollection | 0      | train\n",
      "5 | stacks          | ModuleList       | 493 M  | train\n",
      "-------------------------------------------------------------\n",
      "493 M     Trainable params\n",
      "6.4 K     Non-trainable params\n",
      "493 M     Total params\n",
      "1,973.470 Total estimated model params size (MB)\n",
      "1236      Modules in train mode\n",
      "0         Modules in eval mode\n"
     ]
    },
    {
     "data": {
      "application/vnd.jupyter.widget-view+json": {
       "model_id": "390d897970f84f26b65b30000253a064",
       "version_major": 2,
       "version_minor": 0
      },
      "text/plain": [
       "Sanity Checking: |          | 0/? [00:00<?, ?it/s]"
      ]
     },
     "metadata": {},
     "output_type": "display_data"
    },
    {
     "data": {
      "application/vnd.jupyter.widget-view+json": {
       "model_id": "bbc259fb1a9b40be84f313f36b8ec4bf",
       "version_major": 2,
       "version_minor": 0
      },
      "text/plain": [
       "Training: |          | 0/? [00:00<?, ?it/s]"
      ]
     },
     "metadata": {},
     "output_type": "display_data"
    },
    {
     "data": {
      "application/vnd.jupyter.widget-view+json": {
       "model_id": "1ccdcd9c60db4dddabce99e431b2c12a",
       "version_major": 2,
       "version_minor": 0
      },
      "text/plain": [
       "Validation: |          | 0/? [00:00<?, ?it/s]"
      ]
     },
     "metadata": {},
     "output_type": "display_data"
    },
    {
     "data": {
      "application/vnd.jupyter.widget-view+json": {
       "model_id": "70d75cab6d84478d890b313896e33efc",
       "version_major": 2,
       "version_minor": 0
      },
      "text/plain": [
       "Validation: |          | 0/? [00:00<?, ?it/s]"
      ]
     },
     "metadata": {},
     "output_type": "display_data"
    },
    {
     "data": {
      "application/vnd.jupyter.widget-view+json": {
       "model_id": "3fe17c084fe14f9b9aeb5f26001e35ed",
       "version_major": 2,
       "version_minor": 0
      },
      "text/plain": [
       "Validation: |          | 0/? [00:00<?, ?it/s]"
      ]
     },
     "metadata": {},
     "output_type": "display_data"
    },
    {
     "data": {
      "application/vnd.jupyter.widget-view+json": {
       "model_id": "fa28c99ade85452ca81bdca525d03fc2",
       "version_major": 2,
       "version_minor": 0
      },
      "text/plain": [
       "Validation: |          | 0/? [00:00<?, ?it/s]"
      ]
     },
     "metadata": {},
     "output_type": "display_data"
    },
    {
     "data": {
      "application/vnd.jupyter.widget-view+json": {
       "model_id": "e5f39d81136c4244b7917825f6dae42d",
       "version_major": 2,
       "version_minor": 0
      },
      "text/plain": [
       "Validation: |          | 0/? [00:00<?, ?it/s]"
      ]
     },
     "metadata": {},
     "output_type": "display_data"
    },
    {
     "data": {
      "application/vnd.jupyter.widget-view+json": {
       "model_id": "a6a32dc045d24740b685325a114992c3",
       "version_major": 2,
       "version_minor": 0
      },
      "text/plain": [
       "Validation: |          | 0/? [00:00<?, ?it/s]"
      ]
     },
     "metadata": {},
     "output_type": "display_data"
    },
    {
     "data": {
      "application/vnd.jupyter.widget-view+json": {
       "model_id": "21dd682031004e6c860f19a2192d2336",
       "version_major": 2,
       "version_minor": 0
      },
      "text/plain": [
       "Validation: |          | 0/? [00:00<?, ?it/s]"
      ]
     },
     "metadata": {},
     "output_type": "display_data"
    },
    {
     "data": {
      "application/vnd.jupyter.widget-view+json": {
       "model_id": "d56edc2b4ef84381bd572c55282ba367",
       "version_major": 2,
       "version_minor": 0
      },
      "text/plain": [
       "Validation: |          | 0/? [00:00<?, ?it/s]"
      ]
     },
     "metadata": {},
     "output_type": "display_data"
    },
    {
     "data": {
      "application/vnd.jupyter.widget-view+json": {
       "model_id": "a8de656a5ae94f88a27803bbfbe56aff",
       "version_major": 2,
       "version_minor": 0
      },
      "text/plain": [
       "Validation: |          | 0/? [00:00<?, ?it/s]"
      ]
     },
     "metadata": {},
     "output_type": "display_data"
    },
    {
     "data": {
      "application/vnd.jupyter.widget-view+json": {
       "model_id": "c011aae7cd734db98049c6bbf7c8acb9",
       "version_major": 2,
       "version_minor": 0
      },
      "text/plain": [
       "Validation: |          | 0/? [00:00<?, ?it/s]"
      ]
     },
     "metadata": {},
     "output_type": "display_data"
    },
    {
     "data": {
      "application/vnd.jupyter.widget-view+json": {
       "model_id": "88106ac724b74e9e9d47b5012102daba",
       "version_major": 2,
       "version_minor": 0
      },
      "text/plain": [
       "Validation: |          | 0/? [00:00<?, ?it/s]"
      ]
     },
     "metadata": {},
     "output_type": "display_data"
    },
    {
     "data": {
      "application/vnd.jupyter.widget-view+json": {
       "model_id": "80a693342200495c9ced6be91b86d230",
       "version_major": 2,
       "version_minor": 0
      },
      "text/plain": [
       "Validation: |          | 0/? [00:00<?, ?it/s]"
      ]
     },
     "metadata": {},
     "output_type": "display_data"
    },
    {
     "data": {
      "application/vnd.jupyter.widget-view+json": {
       "model_id": "ce38e715025e4c8abf04db4eec62b167",
       "version_major": 2,
       "version_minor": 0
      },
      "text/plain": [
       "Validation: |          | 0/? [00:00<?, ?it/s]"
      ]
     },
     "metadata": {},
     "output_type": "display_data"
    },
    {
     "data": {
      "application/vnd.jupyter.widget-view+json": {
       "model_id": "0c9cc77f410a41be9732b39d2150ede8",
       "version_major": 2,
       "version_minor": 0
      },
      "text/plain": [
       "Validation: |          | 0/? [00:00<?, ?it/s]"
      ]
     },
     "metadata": {},
     "output_type": "display_data"
    },
    {
     "data": {
      "application/vnd.jupyter.widget-view+json": {
       "model_id": "eb9ed20ac3af4064a8f23a39c7b65886",
       "version_major": 2,
       "version_minor": 0
      },
      "text/plain": [
       "Validation: |          | 0/? [00:00<?, ?it/s]"
      ]
     },
     "metadata": {},
     "output_type": "display_data"
    },
    {
     "data": {
      "application/vnd.jupyter.widget-view+json": {
       "model_id": "ec65ecf8a3024357817049d178ff4880",
       "version_major": 2,
       "version_minor": 0
      },
      "text/plain": [
       "Validation: |          | 0/? [00:00<?, ?it/s]"
      ]
     },
     "metadata": {},
     "output_type": "display_data"
    },
    {
     "data": {
      "application/vnd.jupyter.widget-view+json": {
       "model_id": "1356a9c3e3864f3793927895594d3366",
       "version_major": 2,
       "version_minor": 0
      },
      "text/plain": [
       "Validation: |          | 0/? [00:00<?, ?it/s]"
      ]
     },
     "metadata": {},
     "output_type": "display_data"
    },
    {
     "data": {
      "application/vnd.jupyter.widget-view+json": {
       "model_id": "a4a85a8a5c734d148b1c20081379f2cd",
       "version_major": 2,
       "version_minor": 0
      },
      "text/plain": [
       "Validation: |          | 0/? [00:00<?, ?it/s]"
      ]
     },
     "metadata": {},
     "output_type": "display_data"
    },
    {
     "data": {
      "application/vnd.jupyter.widget-view+json": {
       "model_id": "b36471d5a5f3465d882b6cdfe0466e65",
       "version_major": 2,
       "version_minor": 0
      },
      "text/plain": [
       "Validation: |          | 0/? [00:00<?, ?it/s]"
      ]
     },
     "metadata": {},
     "output_type": "display_data"
    },
    {
     "data": {
      "application/vnd.jupyter.widget-view+json": {
       "model_id": "d93f94254b2542ec8fc9755fd33f3a73",
       "version_major": 2,
       "version_minor": 0
      },
      "text/plain": [
       "Validation: |          | 0/? [00:00<?, ?it/s]"
      ]
     },
     "metadata": {},
     "output_type": "display_data"
    },
    {
     "data": {
      "application/vnd.jupyter.widget-view+json": {
       "model_id": "7fe9027d693344b78caabbcd442ba56c",
       "version_major": 2,
       "version_minor": 0
      },
      "text/plain": [
       "Validation: |          | 0/? [00:00<?, ?it/s]"
      ]
     },
     "metadata": {},
     "output_type": "display_data"
    },
    {
     "data": {
      "application/vnd.jupyter.widget-view+json": {
       "model_id": "79ff810e4a2745bcb201852749734b51",
       "version_major": 2,
       "version_minor": 0
      },
      "text/plain": [
       "Validation: |          | 0/? [00:00<?, ?it/s]"
      ]
     },
     "metadata": {},
     "output_type": "display_data"
    },
    {
     "data": {
      "application/vnd.jupyter.widget-view+json": {
       "model_id": "3de8e58389cb48e2923c514ea9839417",
       "version_major": 2,
       "version_minor": 0
      },
      "text/plain": [
       "Validation: |          | 0/? [00:00<?, ?it/s]"
      ]
     },
     "metadata": {},
     "output_type": "display_data"
    },
    {
     "data": {
      "application/vnd.jupyter.widget-view+json": {
       "model_id": "17765e89d18f4c288d49a24ad16a0d39",
       "version_major": 2,
       "version_minor": 0
      },
      "text/plain": [
       "Validation: |          | 0/? [00:00<?, ?it/s]"
      ]
     },
     "metadata": {},
     "output_type": "display_data"
    },
    {
     "data": {
      "application/vnd.jupyter.widget-view+json": {
       "model_id": "c45ca617de5c4fbdaa60a995f7124acd",
       "version_major": 2,
       "version_minor": 0
      },
      "text/plain": [
       "Validation: |          | 0/? [00:00<?, ?it/s]"
      ]
     },
     "metadata": {},
     "output_type": "display_data"
    },
    {
     "data": {
      "application/vnd.jupyter.widget-view+json": {
       "model_id": "9ed82b6a5dbf480d952e20490efbabb0",
       "version_major": 2,
       "version_minor": 0
      },
      "text/plain": [
       "Validation: |          | 0/? [00:00<?, ?it/s]"
      ]
     },
     "metadata": {},
     "output_type": "display_data"
    },
    {
     "name": "stderr",
     "output_type": "stream",
     "text": [
      "`predict()` was called with `n > output_chunk_length`: using auto-regression to forecast the values after `output_chunk_length` points. The model will access `(n - output_chunk_length)` future values of your `past_covariates` (relative to the first predicted time step). To hide this warning, set `show_warnings=False`.\n",
      "GPU available: True (cuda), used: True\n",
      "TPU available: False, using: 0 TPU cores\n",
      "HPU available: False, using: 0 HPUs\n",
      "LOCAL_RANK: 0 - CUDA_VISIBLE_DEVICES: [0]\n"
     ]
    },
    {
     "data": {
      "application/vnd.jupyter.widget-view+json": {
       "model_id": "36d07ec807b94deb9e893392c9b49e3b",
       "version_major": 2,
       "version_minor": 0
      },
      "text/plain": [
       "Predicting: |          | 0/? [00:00<?, ?it/s]"
      ]
     },
     "metadata": {},
     "output_type": "display_data"
    },
    {
     "name": "stdout",
     "output_type": "stream",
     "text": [
      "Validation RMSE: 2.59\n",
      "Best params: {'input_chunk_length': 72, 'output_chunk_length': 6, 'num_layers': 6, 'layer_widths': 1024}\n",
      "Best validation RMSE: 2.59\n"
     ]
    }
   ],
   "source": [
    "# 8. آموزش مدل با validation برای early stopping\n",
    "model.fit(\n",
    "        series=train_series,\n",
    "        past_covariates=train_cov,\n",
    "        val_series=val_series,\n",
    "        val_past_covariates=val_cov,\n",
    "        verbose=True\n",
    "    )\n",
    "    \n",
    "# پیش‌بینی روی validation برای ارزیابی\n",
    "pred_val = model.predict(n=len(val_series), series=train_series, past_covariates=train_cov[-params['input_chunk_length']:].append(val_cov))\n",
    "pred_val = scaler_series.inverse_transform(pred_val)\n",
    "val_series_orig = scaler_series.inverse_transform(val_series)\n",
    "    \n",
    "val_rmse = rmse(val_series_orig, pred_val)\n",
    "print(f\"Validation RMSE: {val_rmse:.2f}\")\n",
    "    \n",
    "# ذخیره بهترین مدل\n",
    "if val_rmse < best_val_rmse:\n",
    "    best_val_rmse = val_rmse\n",
    "    best_model = model\n",
    "    best_params = params\n",
    "\n",
    "print(f\"Best params: {best_params}\")\n",
    "print(f\"Best validation RMSE: {best_val_rmse:.2f}\")"
   ]
  },
  {
   "cell_type": "code",
   "execution_count": 17,
   "id": "3850f060-7bfe-4e47-8d3a-bbfb2efac64f",
   "metadata": {},
   "outputs": [
    {
     "name": "stderr",
     "output_type": "stream",
     "text": [
      "`predict()` was called with `n > output_chunk_length`: using auto-regression to forecast the values after `output_chunk_length` points. The model will access `(n - output_chunk_length)` future values of your `past_covariates` (relative to the first predicted time step). To hide this warning, set `show_warnings=False`.\n",
      "ValueError: For the given forecasting horizon `n=72`, the provided `past_covariates` at series sequence index `0` do not extend far enough into the future. As `n > output_chunk_length` the `past_covariates` must end at or after time step `2023-11-26 11:00:00`, whereas now the end is at time step `2023-11-23 17:00:00`.\n"
     ]
    },
    {
     "ename": "ValueError",
     "evalue": "For the given forecasting horizon `n=72`, the provided `past_covariates` at series sequence index `0` do not extend far enough into the future. As `n > output_chunk_length` the `past_covariates` must end at or after time step `2023-11-26 11:00:00`, whereas now the end is at time step `2023-11-23 17:00:00`.",
     "output_type": "error",
     "traceback": [
      "\u001b[0;31m---------------------------------------------------------------------------\u001b[0m",
      "\u001b[0;31mValueError\u001b[0m                                Traceback (most recent call last)",
      "Cell \u001b[0;32mIn[17], line 2\u001b[0m\n\u001b[1;32m      1\u001b[0m \u001b[38;5;66;03m# 9. پیش‌بینی روی test با بهترین مدل\u001b[39;00m\n\u001b[0;32m----> 2\u001b[0m pred \u001b[38;5;241m=\u001b[39m \u001b[43mbest_model\u001b[49m\u001b[38;5;241;43m.\u001b[39;49m\u001b[43mpredict\u001b[49m\u001b[43m(\u001b[49m\u001b[43mn\u001b[49m\u001b[38;5;241;43m=\u001b[39;49m\u001b[38;5;241;43m72\u001b[39;49m\u001b[43m,\u001b[49m\u001b[43m \u001b[49m\u001b[43mseries\u001b[49m\u001b[38;5;241;43m=\u001b[39;49m\u001b[43mtrain_series\u001b[49m\u001b[38;5;241;43m.\u001b[39;49m\u001b[43mappend\u001b[49m\u001b[43m(\u001b[49m\u001b[43mval_series\u001b[49m\u001b[43m)\u001b[49m\u001b[43m,\u001b[49m\u001b[43m \u001b[49m\u001b[43mpast_covariates\u001b[49m\u001b[38;5;241;43m=\u001b[39;49m\u001b[43mcovariates_scaled\u001b[49m\u001b[43m[\u001b[49m\u001b[43m:\u001b[49m\u001b[38;5;28;43mlen\u001b[39;49m\u001b[43m(\u001b[49m\u001b[43mtrain_series\u001b[49m\u001b[43m)\u001b[49m\u001b[43m \u001b[49m\u001b[38;5;241;43m+\u001b[39;49m\u001b[43m \u001b[49m\u001b[38;5;28;43mlen\u001b[39;49m\u001b[43m(\u001b[49m\u001b[43mval_series\u001b[49m\u001b[43m)\u001b[49m\u001b[43m]\u001b[49m\u001b[43m)\u001b[49m\n\u001b[1;32m      3\u001b[0m pred \u001b[38;5;241m=\u001b[39m scaler_series\u001b[38;5;241m.\u001b[39minverse_transform(pred)\n\u001b[1;32m      4\u001b[0m test_series \u001b[38;5;241m=\u001b[39m scaler_series\u001b[38;5;241m.\u001b[39minverse_transform(test_series)\n",
      "File \u001b[0;32m/opt/conda/lib/python3.12/site-packages/darts/utils/torch.py:94\u001b[0m, in \u001b[0;36mrandom_method.<locals>.decorator\u001b[0;34m(self, *args, **kwargs)\u001b[0m\n\u001b[1;32m     92\u001b[0m \u001b[38;5;28;01mwith\u001b[39;00m fork_rng():\n\u001b[1;32m     93\u001b[0m     manual_seed(random_instance\u001b[38;5;241m.\u001b[39mrandint(\u001b[38;5;241m0\u001b[39m, high\u001b[38;5;241m=\u001b[39mMAX_TORCH_SEED_VALUE))\n\u001b[0;32m---> 94\u001b[0m     \u001b[38;5;28;01mreturn\u001b[39;00m \u001b[43mdecorated\u001b[49m\u001b[43m(\u001b[49m\u001b[38;5;28;43mself\u001b[39;49m\u001b[43m,\u001b[49m\u001b[43m \u001b[49m\u001b[38;5;241;43m*\u001b[39;49m\u001b[43margs\u001b[49m\u001b[43m,\u001b[49m\u001b[43m \u001b[49m\u001b[38;5;241;43m*\u001b[39;49m\u001b[38;5;241;43m*\u001b[39;49m\u001b[43mkwargs\u001b[49m\u001b[43m)\u001b[49m\n",
      "File \u001b[0;32m/opt/conda/lib/python3.12/site-packages/darts/models/forecasting/torch_forecasting_model.py:1653\u001b[0m, in \u001b[0;36mTorchForecastingModel.predict\u001b[0;34m(self, n, series, past_covariates, future_covariates, trainer, batch_size, verbose, n_jobs, roll_size, num_samples, dataloader_kwargs, mc_dropout, predict_likelihood_parameters, show_warnings, random_state)\u001b[0m\n\u001b[1;32m   1634\u001b[0m \u001b[38;5;28msuper\u001b[39m()\u001b[38;5;241m.\u001b[39mpredict(\n\u001b[1;32m   1635\u001b[0m     n,\n\u001b[1;32m   1636\u001b[0m     series,\n\u001b[0;32m   (...)\u001b[0m\n\u001b[1;32m   1641\u001b[0m     show_warnings\u001b[38;5;241m=\u001b[39mshow_warnings,\n\u001b[1;32m   1642\u001b[0m )\n\u001b[1;32m   1644\u001b[0m dataset \u001b[38;5;241m=\u001b[39m \u001b[38;5;28mself\u001b[39m\u001b[38;5;241m.\u001b[39m_build_inference_dataset(\n\u001b[1;32m   1645\u001b[0m     n\u001b[38;5;241m=\u001b[39mn,\n\u001b[1;32m   1646\u001b[0m     series\u001b[38;5;241m=\u001b[39mseries,\n\u001b[0;32m   (...)\u001b[0m\n\u001b[1;32m   1650\u001b[0m     bounds\u001b[38;5;241m=\u001b[39m\u001b[38;5;28;01mNone\u001b[39;00m,\n\u001b[1;32m   1651\u001b[0m )\n\u001b[0;32m-> 1653\u001b[0m predictions \u001b[38;5;241m=\u001b[39m \u001b[38;5;28;43mself\u001b[39;49m\u001b[38;5;241;43m.\u001b[39;49m\u001b[43mpredict_from_dataset\u001b[49m\u001b[43m(\u001b[49m\n\u001b[1;32m   1654\u001b[0m \u001b[43m    \u001b[49m\u001b[43mn\u001b[49m\u001b[38;5;241;43m=\u001b[39;49m\u001b[43mn\u001b[49m\u001b[43m,\u001b[49m\n\u001b[1;32m   1655\u001b[0m \u001b[43m    \u001b[49m\u001b[43mdataset\u001b[49m\u001b[38;5;241;43m=\u001b[39;49m\u001b[43mdataset\u001b[49m\u001b[43m,\u001b[49m\n\u001b[1;32m   1656\u001b[0m \u001b[43m    \u001b[49m\u001b[43mtrainer\u001b[49m\u001b[38;5;241;43m=\u001b[39;49m\u001b[43mtrainer\u001b[49m\u001b[43m,\u001b[49m\n\u001b[1;32m   1657\u001b[0m \u001b[43m    \u001b[49m\u001b[43mverbose\u001b[49m\u001b[38;5;241;43m=\u001b[39;49m\u001b[43mverbose\u001b[49m\u001b[43m,\u001b[49m\n\u001b[1;32m   1658\u001b[0m \u001b[43m    \u001b[49m\u001b[43mbatch_size\u001b[49m\u001b[38;5;241;43m=\u001b[39;49m\u001b[43mbatch_size\u001b[49m\u001b[43m,\u001b[49m\n\u001b[1;32m   1659\u001b[0m \u001b[43m    \u001b[49m\u001b[43mn_jobs\u001b[49m\u001b[38;5;241;43m=\u001b[39;49m\u001b[43mn_jobs\u001b[49m\u001b[43m,\u001b[49m\n\u001b[1;32m   1660\u001b[0m \u001b[43m    \u001b[49m\u001b[43mroll_size\u001b[49m\u001b[38;5;241;43m=\u001b[39;49m\u001b[43mroll_size\u001b[49m\u001b[43m,\u001b[49m\n\u001b[1;32m   1661\u001b[0m \u001b[43m    \u001b[49m\u001b[43mnum_samples\u001b[49m\u001b[38;5;241;43m=\u001b[39;49m\u001b[43mnum_samples\u001b[49m\u001b[43m,\u001b[49m\n\u001b[1;32m   1662\u001b[0m \u001b[43m    \u001b[49m\u001b[43mdataloader_kwargs\u001b[49m\u001b[38;5;241;43m=\u001b[39;49m\u001b[43mdataloader_kwargs\u001b[49m\u001b[43m,\u001b[49m\n\u001b[1;32m   1663\u001b[0m \u001b[43m    \u001b[49m\u001b[43mmc_dropout\u001b[49m\u001b[38;5;241;43m=\u001b[39;49m\u001b[43mmc_dropout\u001b[49m\u001b[43m,\u001b[49m\n\u001b[1;32m   1664\u001b[0m \u001b[43m    \u001b[49m\u001b[43mpredict_likelihood_parameters\u001b[49m\u001b[38;5;241;43m=\u001b[39;49m\u001b[43mpredict_likelihood_parameters\u001b[49m\u001b[43m,\u001b[49m\n\u001b[1;32m   1665\u001b[0m \u001b[43m    \u001b[49m\u001b[43mrandom_state\u001b[49m\u001b[38;5;241;43m=\u001b[39;49m\u001b[43mrandom_state\u001b[49m\u001b[43m,\u001b[49m\n\u001b[1;32m   1666\u001b[0m \u001b[43m\u001b[49m\u001b[43m)\u001b[49m\n\u001b[1;32m   1668\u001b[0m \u001b[38;5;28;01mreturn\u001b[39;00m predictions[\u001b[38;5;241m0\u001b[39m] \u001b[38;5;28;01mif\u001b[39;00m called_with_single_series \u001b[38;5;28;01melse\u001b[39;00m predictions\n",
      "File \u001b[0;32m/opt/conda/lib/python3.12/site-packages/darts/utils/torch.py:94\u001b[0m, in \u001b[0;36mrandom_method.<locals>.decorator\u001b[0;34m(self, *args, **kwargs)\u001b[0m\n\u001b[1;32m     92\u001b[0m \u001b[38;5;28;01mwith\u001b[39;00m fork_rng():\n\u001b[1;32m     93\u001b[0m     manual_seed(random_instance\u001b[38;5;241m.\u001b[39mrandint(\u001b[38;5;241m0\u001b[39m, high\u001b[38;5;241m=\u001b[39mMAX_TORCH_SEED_VALUE))\n\u001b[0;32m---> 94\u001b[0m     \u001b[38;5;28;01mreturn\u001b[39;00m \u001b[43mdecorated\u001b[49m\u001b[43m(\u001b[49m\u001b[38;5;28;43mself\u001b[39;49m\u001b[43m,\u001b[49m\u001b[43m \u001b[49m\u001b[38;5;241;43m*\u001b[39;49m\u001b[43margs\u001b[49m\u001b[43m,\u001b[49m\u001b[43m \u001b[49m\u001b[38;5;241;43m*\u001b[39;49m\u001b[38;5;241;43m*\u001b[39;49m\u001b[43mkwargs\u001b[49m\u001b[43m)\u001b[49m\n",
      "File \u001b[0;32m/opt/conda/lib/python3.12/site-packages/darts/models/forecasting/torch_forecasting_model.py:1758\u001b[0m, in \u001b[0;36mTorchForecastingModel.predict_from_dataset\u001b[0;34m(self, n, dataset, trainer, batch_size, verbose, n_jobs, roll_size, num_samples, dataloader_kwargs, mc_dropout, predict_likelihood_parameters, random_state, values_only)\u001b[0m\n\u001b[1;32m   1754\u001b[0m \u001b[38;5;28mself\u001b[39m\u001b[38;5;241m.\u001b[39m_verify_inference_dataset_type(dataset)\n\u001b[1;32m   1756\u001b[0m \u001b[38;5;66;03m# check that covariates and dimensions are matching what we had during training\u001b[39;00m\n\u001b[1;32m   1757\u001b[0m \u001b[38;5;28mself\u001b[39m\u001b[38;5;241m.\u001b[39m_validate_predict_sample(\n\u001b[0;32m-> 1758\u001b[0m     train_sample\u001b[38;5;241m=\u001b[39m\u001b[38;5;28mself\u001b[39m\u001b[38;5;241m.\u001b[39mtrain_sample, predict_sample\u001b[38;5;241m=\u001b[39m\u001b[43mdataset\u001b[49m\u001b[43m[\u001b[49m\u001b[38;5;241;43m0\u001b[39;49m\u001b[43m]\u001b[49m\n\u001b[1;32m   1759\u001b[0m )\n\u001b[1;32m   1761\u001b[0m \u001b[38;5;28;01mif\u001b[39;00m roll_size \u001b[38;5;129;01mis\u001b[39;00m \u001b[38;5;28;01mNone\u001b[39;00m:\n\u001b[1;32m   1762\u001b[0m     roll_size \u001b[38;5;241m=\u001b[39m \u001b[38;5;28mself\u001b[39m\u001b[38;5;241m.\u001b[39moutput_chunk_length\n",
      "File \u001b[0;32m/opt/conda/lib/python3.12/site-packages/darts/utils/data/torch_datasets/inference_dataset.py:257\u001b[0m, in \u001b[0;36mSequentialTorchInferenceDataset.__getitem__\u001b[0;34m(self, idx)\u001b[0m\n\u001b[1;32m    250\u001b[0m past_covariates \u001b[38;5;241m=\u001b[39m (\n\u001b[1;32m    251\u001b[0m     \u001b[38;5;28mself\u001b[39m\u001b[38;5;241m.\u001b[39mpast_covariates[series_idx] \u001b[38;5;28;01mif\u001b[39;00m \u001b[38;5;28mself\u001b[39m\u001b[38;5;241m.\u001b[39muses_past_covariates \u001b[38;5;28;01melse\u001b[39;00m \u001b[38;5;28;01mNone\u001b[39;00m\n\u001b[1;32m    252\u001b[0m )\n\u001b[1;32m    253\u001b[0m future_covariates \u001b[38;5;241m=\u001b[39m (\n\u001b[1;32m    254\u001b[0m     \u001b[38;5;28mself\u001b[39m\u001b[38;5;241m.\u001b[39mfuture_covariates[series_idx] \u001b[38;5;28;01mif\u001b[39;00m \u001b[38;5;28mself\u001b[39m\u001b[38;5;241m.\u001b[39muses_future_covariates \u001b[38;5;28;01melse\u001b[39;00m \u001b[38;5;28;01mNone\u001b[39;00m\n\u001b[1;32m    255\u001b[0m )\n\u001b[0;32m--> 257\u001b[0m idx_bounds \u001b[38;5;241m=\u001b[39m \u001b[38;5;28;43mself\u001b[39;49m\u001b[38;5;241;43m.\u001b[39;49m\u001b[43m_memory_indexer\u001b[49m\u001b[43m(\u001b[49m\n\u001b[1;32m    258\u001b[0m \u001b[43m    \u001b[49m\u001b[43mseries_idx\u001b[49m\u001b[38;5;241;43m=\u001b[39;49m\u001b[43mseries_idx\u001b[49m\u001b[43m,\u001b[49m\n\u001b[1;32m    259\u001b[0m \u001b[43m    \u001b[49m\u001b[43mseries\u001b[49m\u001b[38;5;241;43m=\u001b[39;49m\u001b[43mseries\u001b[49m\u001b[43m,\u001b[49m\n\u001b[1;32m    260\u001b[0m \u001b[43m    \u001b[49m\u001b[43mshift\u001b[49m\u001b[38;5;241;43m=\u001b[39;49m\u001b[38;5;28;43mself\u001b[39;49m\u001b[38;5;241;43m.\u001b[39;49m\u001b[43minput_chunk_length\u001b[49m\u001b[43m \u001b[49m\u001b[38;5;241;43m+\u001b[39;49m\u001b[43m \u001b[49m\u001b[38;5;28;43mself\u001b[39;49m\u001b[38;5;241;43m.\u001b[39;49m\u001b[43moutput_chunk_shift\u001b[49m\u001b[43m,\u001b[49m\n\u001b[1;32m    261\u001b[0m \u001b[43m    \u001b[49m\u001b[43minput_chunk_length\u001b[49m\u001b[38;5;241;43m=\u001b[39;49m\u001b[38;5;28;43mself\u001b[39;49m\u001b[38;5;241;43m.\u001b[39;49m\u001b[43minput_chunk_length\u001b[49m\u001b[43m,\u001b[49m\n\u001b[1;32m    262\u001b[0m \u001b[43m    \u001b[49m\u001b[43moutput_chunk_length\u001b[49m\u001b[38;5;241;43m=\u001b[39;49m\u001b[38;5;28;43mself\u001b[39;49m\u001b[38;5;241;43m.\u001b[39;49m\u001b[43moutput_chunk_length\u001b[49m\u001b[43m,\u001b[49m\n\u001b[1;32m    263\u001b[0m \u001b[43m    \u001b[49m\u001b[43mend_of_output_idx\u001b[49m\u001b[38;5;241;43m=\u001b[39;49m\u001b[43mend_of_output_idx\u001b[49m\u001b[43m,\u001b[49m\n\u001b[1;32m    264\u001b[0m \u001b[43m    \u001b[49m\u001b[43mpast_covariates\u001b[49m\u001b[38;5;241;43m=\u001b[39;49m\u001b[43mpast_covariates\u001b[49m\u001b[43m,\u001b[49m\n\u001b[1;32m    265\u001b[0m \u001b[43m    \u001b[49m\u001b[43mfuture_covariates\u001b[49m\u001b[38;5;241;43m=\u001b[39;49m\u001b[43mfuture_covariates\u001b[49m\u001b[43m,\u001b[49m\n\u001b[1;32m    266\u001b[0m \u001b[43m    \u001b[49m\u001b[43msample_weight\u001b[49m\u001b[38;5;241;43m=\u001b[39;49m\u001b[38;5;28;43;01mNone\u001b[39;49;00m\u001b[43m,\u001b[49m\n\u001b[1;32m    267\u001b[0m \u001b[43m    \u001b[49m\u001b[43mn\u001b[49m\u001b[38;5;241;43m=\u001b[39;49m\u001b[38;5;28;43mself\u001b[39;49m\u001b[38;5;241;43m.\u001b[39;49m\u001b[43mn\u001b[49m\u001b[43m,\u001b[49m\n\u001b[1;32m    268\u001b[0m \u001b[43m\u001b[49m\u001b[43m)\u001b[49m\n\u001b[1;32m    270\u001b[0m series_vals \u001b[38;5;241m=\u001b[39m series\u001b[38;5;241m.\u001b[39mrandom_component_values(copy\u001b[38;5;241m=\u001b[39m\u001b[38;5;28;01mFalse\u001b[39;00m)\n\u001b[1;32m    271\u001b[0m \u001b[38;5;66;03m# extract past target series\u001b[39;00m\n",
      "File \u001b[0;32m/opt/conda/lib/python3.12/site-packages/darts/utils/data/torch_datasets/dataset.py:184\u001b[0m, in \u001b[0;36mTorchDataset._memory_indexer\u001b[0;34m(self, series_idx, series, shift, input_chunk_length, output_chunk_length, end_of_output_idx, past_covariates, future_covariates, sample_weight, n)\u001b[0m\n\u001b[1;32m    178\u001b[0m     \u001b[38;5;28;01melse\u001b[39;00m:\n\u001b[1;32m    179\u001b[0m         forecast_info \u001b[38;5;241m=\u001b[39m (\n\u001b[1;32m    180\u001b[0m             \u001b[38;5;124m\"\u001b[39m\u001b[38;5;124mn > output_chunk_length\u001b[39m\u001b[38;5;124m\"\u001b[39m\n\u001b[1;32m    181\u001b[0m             \u001b[38;5;28;01mif\u001b[39;00m n \u001b[38;5;241m>\u001b[39m output_chunk_length\n\u001b[1;32m    182\u001b[0m             \u001b[38;5;28;01melse\u001b[39;00m \u001b[38;5;124m\"\u001b[39m\u001b[38;5;124mn <= output_chunk_length\u001b[39m\u001b[38;5;124m\"\u001b[39m\n\u001b[1;32m    183\u001b[0m         )\n\u001b[0;32m--> 184\u001b[0m         \u001b[43mraise_log\u001b[49m\u001b[43m(\u001b[49m\n\u001b[1;32m    185\u001b[0m \u001b[43m            \u001b[49m\u001b[38;5;167;43;01mValueError\u001b[39;49;00m\u001b[43m(\u001b[49m\n\u001b[1;32m    186\u001b[0m \u001b[43m                \u001b[49m\u001b[38;5;124;43mf\u001b[39;49m\u001b[38;5;124;43m\"\u001b[39;49m\u001b[38;5;124;43mFor the given forecasting horizon `n=\u001b[39;49m\u001b[38;5;132;43;01m{\u001b[39;49;00m\u001b[43mn\u001b[49m\u001b[38;5;132;43;01m}\u001b[39;49;00m\u001b[38;5;124;43m`, the provided `\u001b[39;49m\u001b[38;5;132;43;01m{\u001b[39;49;00m\u001b[43mmain_feat_type\u001b[49m\u001b[38;5;241;43m.\u001b[39;49m\u001b[43mvalue\u001b[49m\u001b[38;5;132;43;01m}\u001b[39;49;00m\u001b[38;5;124;43m` at \u001b[39;49m\u001b[38;5;124;43m\"\u001b[39;49m\n\u001b[1;32m    187\u001b[0m \u001b[43m                \u001b[49m\u001b[38;5;124;43mf\u001b[39;49m\u001b[38;5;124;43m\"\u001b[39;49m\u001b[38;5;124;43mseries sequence index `\u001b[39;49m\u001b[38;5;132;43;01m{\u001b[39;49;00m\u001b[43mseries_idx\u001b[49m\u001b[38;5;132;43;01m}\u001b[39;49;00m\u001b[38;5;124;43m` do not extend far enough into the future. As \u001b[39;49m\u001b[38;5;124;43m\"\u001b[39;49m\n\u001b[1;32m    188\u001b[0m \u001b[43m                \u001b[49m\u001b[38;5;124;43mf\u001b[39;49m\u001b[38;5;124;43m\"\u001b[39;49m\u001b[38;5;124;43m`\u001b[39;49m\u001b[38;5;132;43;01m{\u001b[39;49;00m\u001b[43mforecast_info\u001b[49m\u001b[38;5;132;43;01m}\u001b[39;49;00m\u001b[38;5;124;43m` the `\u001b[39;49m\u001b[38;5;132;43;01m{\u001b[39;49;00m\u001b[43mmain_feat_type\u001b[49m\u001b[38;5;241;43m.\u001b[39;49m\u001b[43mvalue\u001b[49m\u001b[38;5;132;43;01m}\u001b[39;49;00m\u001b[38;5;124;43m` must end at or after time step \u001b[39;49m\u001b[38;5;124;43m\"\u001b[39;49m\n\u001b[1;32m    189\u001b[0m \u001b[43m                \u001b[49m\u001b[38;5;124;43mf\u001b[39;49m\u001b[38;5;124;43m\"\u001b[39;49m\u001b[38;5;124;43m`\u001b[39;49m\u001b[38;5;132;43;01m{\u001b[39;49;00m\u001b[43mend_time\u001b[49m\u001b[38;5;132;43;01m}\u001b[39;49;00m\u001b[38;5;124;43m`, whereas now the end is at time step `\u001b[39;49m\u001b[38;5;132;43;01m{\u001b[39;49;00m\u001b[43mfeat\u001b[49m\u001b[38;5;241;43m.\u001b[39;49m\u001b[43mend_time\u001b[49m\u001b[43m(\u001b[49m\u001b[43m)\u001b[49m\u001b[38;5;132;43;01m}\u001b[39;49;00m\u001b[38;5;124;43m`.\u001b[39;49m\u001b[38;5;124;43m\"\u001b[39;49m\n\u001b[1;32m    190\u001b[0m \u001b[43m            \u001b[49m\u001b[43m)\u001b[49m\u001b[43m,\u001b[49m\n\u001b[1;32m    191\u001b[0m \u001b[43m            \u001b[49m\u001b[43mlogger\u001b[49m\u001b[38;5;241;43m=\u001b[39;49m\u001b[43mlogger\u001b[49m\u001b[43m,\u001b[49m\n\u001b[1;32m    192\u001b[0m \u001b[43m        \u001b[49m\u001b[43m)\u001b[49m\n\u001b[1;32m    194\u001b[0m \u001b[38;5;66;03m# extract the index position (index) from the start index\u001b[39;00m\n\u001b[1;32m    195\u001b[0m feat_start \u001b[38;5;241m=\u001b[39m feat_times\u001b[38;5;241m.\u001b[39mget_loc(start_time)\n",
      "File \u001b[0;32m/opt/conda/lib/python3.12/site-packages/darts/logging.py:132\u001b[0m, in \u001b[0;36mraise_log\u001b[0;34m(exception, logger)\u001b[0m\n\u001b[1;32m    129\u001b[0m message \u001b[38;5;241m=\u001b[39m \u001b[38;5;28mstr\u001b[39m(exception)\n\u001b[1;32m    130\u001b[0m logger\u001b[38;5;241m.\u001b[39merror(exception_type \u001b[38;5;241m+\u001b[39m \u001b[38;5;124m\"\u001b[39m\u001b[38;5;124m: \u001b[39m\u001b[38;5;124m\"\u001b[39m \u001b[38;5;241m+\u001b[39m message)\n\u001b[0;32m--> 132\u001b[0m \u001b[38;5;28;01mraise\u001b[39;00m exception\n",
      "\u001b[0;31mValueError\u001b[0m: For the given forecasting horizon `n=72`, the provided `past_covariates` at series sequence index `0` do not extend far enough into the future. As `n > output_chunk_length` the `past_covariates` must end at or after time step `2023-11-26 11:00:00`, whereas now the end is at time step `2023-11-23 17:00:00`."
     ]
    }
   ],
   "source": [
    "# 9. پیش‌بینی روی test با بهترین مدل\n",
    "# pred = best_model.predict(n=len(test_series), series=train_series.append(val_series), past_covariates=covariates_scaled[:len(train_series) + len(val_series)])\n",
    "# pred = scaler_series.inverse_transform(pred)\n",
    "# test_series = scaler_series.inverse_transform(test_series)"
   ]
  },
  {
   "cell_type": "code",
   "execution_count": 18,
   "id": "4a7500a0-e7bb-46b4-a88c-86060c8caba8",
   "metadata": {},
   "outputs": [
    {
     "name": "stderr",
     "output_type": "stream",
     "text": [
      "`predict()` was called with `n > output_chunk_length`: using auto-regression to forecast the values after `output_chunk_length` points. The model will access `(n - output_chunk_length)` future values of your `past_covariates` (relative to the first predicted time step). To hide this warning, set `show_warnings=False`.\n",
      "GPU available: True (cuda), used: True\n",
      "TPU available: False, using: 0 TPU cores\n",
      "HPU available: False, using: 0 HPUs\n",
      "LOCAL_RANK: 0 - CUDA_VISIBLE_DEVICES: [0]\n"
     ]
    },
    {
     "data": {
      "application/vnd.jupyter.widget-view+json": {
       "model_id": "2b9d2ef0710f4a40a0a895ca61056f37",
       "version_major": 2,
       "version_minor": 0
      },
      "text/plain": [
       "Predicting: |          | 0/? [00:00<?, ?it/s]"
      ]
     },
     "metadata": {},
     "output_type": "display_data"
    }
   ],
   "source": [
    "# محاسبه طول مورد نیاز برای covariates\n",
    "required_covariates_length = len(train_series) + len(val_series) + len(test_series)\n",
    "\n",
    "# بررسی اینکه آیا covariates کافی هستند\n",
    "if len(covariates_scaled) < required_covariates_length:\n",
    "    raise ValueError(f\"طول covariates کافی نیست. مورد نیاز: {required_covariates_length}، موجود: {len(covariates_scaled)}\")\n",
    "\n",
    "# اجرای پیش‌بینی با covariates کامل\n",
    "pred = best_model.predict(\n",
    "    n=len(test_series),\n",
    "    series=train_series.append(val_series),\n",
    "    past_covariates=covariates_scaled[:required_covariates_length]\n",
    ")\n",
    "\n",
    "# تبدیل مقیاس خروجی‌ها\n",
    "pred = scaler_series.inverse_transform(pred)\n",
    "test_series = scaler_series.inverse_transform(test_series)\n"
   ]
  },
  {
   "cell_type": "code",
   "execution_count": 19,
   "id": "8f6906b5-6b14-4f22-8ce3-a9d58b4a1a2a",
   "metadata": {},
   "outputs": [
    {
     "name": "stdout",
     "output_type": "stream",
     "text": [
      "Test RMSE: 3.53\n",
      "Test MAE: 3.05\n"
     ]
    }
   ],
   "source": [
    "# 10. ارزیابی روی test\n",
    "print(f\"Test RMSE: {rmse(test_series, pred):.2f}\")\n",
    "print(f\"Test MAE: {mae(test_series, pred):.2f}\")"
   ]
  },
  {
   "cell_type": "code",
   "execution_count": 20,
   "id": "870357e2-cb18-4aa1-9dd9-552ebbae03cc",
   "metadata": {},
   "outputs": [],
   "source": [
    "# 11. تبدیل به DataFrame برای رسم\n",
    "df_test = pd.DataFrame({'oil temperature': test_series.values().flatten()}, index=test_series.time_index)\n",
    "df_pred = pd.DataFrame({'oil temperature': pred.values().flatten()}, index=pred.time_index)"
   ]
  },
  {
   "cell_type": "code",
   "execution_count": null,
   "id": "2eb828d0-11c9-43cb-91bc-950008d2b20c",
   "metadata": {},
   "outputs": [],
   "source": [
    "# 12. رسم فقط یک روز از داده‌های تست و پیش‌بینی\n",
    "start_time = df_test.index[0].replace(hour=0, minute=0, second=0)\n",
    "end_time = start_time + pd.Timedelta(hours=23)\n",
    "\n",
    "df_test_day = df_test[(df_test.index >= start_time) & (df_test.index <= end_time)]\n",
    "df_pred_day = df_pred[(df_pred.index >= start_time) & (df_pred.index <= end_time)]\n",
    "\n",
    "plt.figure(figsize=(6, 3))\n",
    "plt.plot(df_test_day.index, df_test_day['oil temperature'], label='Actual', color='blue')\n",
    "plt.plot(df_pred_day.index, df_pred_day['oil temperature'], label='Predicted', color='orange')\n",
    "plt.legend()\n",
    "plt.title(f\"Actual vs Predicted Oil Temperature\\n{start_time.date()} 00:00 to 23:00\")\n",
    "plt.xlabel(\"Time\")\n",
    "plt.ylabel(\"Temperature\")\n",
    "plt.grid(True)\n",
    "plt.tight_layout()\n",
    "plt.show()"
   ]
  },
  {
   "cell_type": "code",
   "execution_count": null,
   "id": "268eb792-5471-4a0c-abaa-ded51607648a",
   "metadata": {},
   "outputs": [],
   "source": []
  }
 ],
 "metadata": {
  "kernelspec": {
   "display_name": "Python 3 (ipykernel)",
   "language": "python",
   "name": "python3"
  },
  "language_info": {
   "codemirror_mode": {
    "name": "ipython",
    "version": 3
   },
   "file_extension": ".py",
   "mimetype": "text/x-python",
   "name": "python",
   "nbconvert_exporter": "python",
   "pygments_lexer": "ipython3",
   "version": "3.12.9"
  }
 },
 "nbformat": 4,
 "nbformat_minor": 5
}
