{
 "cells": [
  {
   "cell_type": "code",
   "execution_count": 11,
   "metadata": {},
   "outputs": [],
   "source": [
    "import pandas as pd\n",
    "from darts import TimeSeries\n",
    "from darts.models import BlockRNNModel\n",
    "from darts.dataprocessing.transformers import Scaler\n",
    "from sklearn.preprocessing import MinMaxScaler\n",
    "from darts.metrics import rmse, mae\n",
    "import matplotlib.pyplot as plt\n",
    "\n"
   ]
  },
  {
   "cell_type": "code",
   "execution_count": 12,
   "metadata": {},
   "outputs": [],
   "source": [
    "# 1. خواندن فایل اکسل\n",
    "df = pd.read_excel(\"main_trans.xlsx\")  # مسیر فایل را تنظیم کن\n",
    "df['DateTime'] = pd.to_datetime(df['DateTime'], errors='coerce')\n",
    "df = df.dropna(subset=['DateTime'])"
   ]
  },
  {
   "cell_type": "code",
   "execution_count": 14,
   "metadata": {},
   "outputs": [],
   "source": [
    "target_date = pd.to_datetime('1/13/2023  00:00:00 AM')\n",
    "df_filtered = df[(df['DateTime'] >= target_date)]"
   ]
  },
  {
   "cell_type": "code",
   "execution_count": 15,
   "metadata": {},
   "outputs": [
    {
     "name": "stderr",
     "output_type": "stream",
     "text": [
      "C:\\Users\\pishva_r\\AppData\\Local\\Temp\\ipykernel_6100\\1880920363.py:3: FutureWarning: 'H' is deprecated and will be removed in a future version, please use 'h' instead.\n",
      "  df_resampled = df.resample('1H').mean()\n"
     ]
    }
   ],
   "source": [
    "# 3. بازنمونه‌گیری به بازه ساعتی\n",
    "df = df.set_index('DateTime')\n",
    "df_resampled = df.resample('1H').mean()"
   ]
  },
  {
   "cell_type": "code",
   "execution_count": 16,
   "metadata": {},
   "outputs": [],
   "source": [
    "# 4. پر کردن داده‌های خالی\n",
    "df_resampled = df_resampled.interpolate(method='linear')"
   ]
  },
  {
   "cell_type": "code",
   "execution_count": 17,
   "metadata": {},
   "outputs": [],
   "source": [
    "# 5. ساخت سری هدف و covariates\n",
    "series = TimeSeries.from_dataframe(df_resampled, value_cols='oil temperature', freq='h')\n",
    "# covariates = TimeSeries.from_dataframe(df_resampled, value_cols=['DAMA', 'ROTOOBAT'], freq='h')\n",
    "\n"
   ]
  },
  {
   "cell_type": "code",
   "execution_count": 18,
   "metadata": {},
   "outputs": [],
   "source": [
    "# 6. نرمال‌سازی\n",
    "scaler_series = Scaler(MinMaxScaler())\n",
    "series_scaled = scaler_series.fit_transform(series)\n"
   ]
  },
  {
   "cell_type": "code",
   "execution_count": 19,
   "metadata": {},
   "outputs": [],
   "source": [
    "\n",
    "# scaler_cov = Scaler(MinMaxScaler())\n",
    "# covariates_scaled = scaler_cov.fit_transform(covariates)\n"
   ]
  },
  {
   "cell_type": "code",
   "execution_count": 20,
   "metadata": {},
   "outputs": [],
   "source": [
    "# 7. تقسیم داده‌ها به آموزش و تست\n",
    "train_ratio = 0.9\n",
    "train_series, test_series = series_scaled.split_after(train_ratio)\n",
    "# train_cov, test_cov = covariates_scaled.split_after(train_ratio)"
   ]
  },
  {
   "cell_type": "code",
   "execution_count": 22,
   "metadata": {},
   "outputs": [],
   "source": [
    "# 8. ساخت مدل LSTM\n",
    "model = BlockRNNModel(\n",
    "    model='LSTM',\n",
    "    input_chunk_length=48,\n",
    "    output_chunk_length=12,\n",
    "    hidden_dim=64,\n",
    "    n_rnn_layers=2,\n",
    "    dropout=0.2,\n",
    "    n_epochs=20,\n",
    "    random_state=42\n",
    ")"
   ]
  },
  {
   "cell_type": "code",
   "execution_count": 23,
   "metadata": {},
   "outputs": [
    {
     "name": "stderr",
     "output_type": "stream",
     "text": [
      "GPU available: False, used: False\n",
      "TPU available: False, using: 0 TPU cores\n",
      "HPU available: False, using: 0 HPUs\n",
      "\n",
      "  | Name            | Type             | Params | Mode \n",
      "-------------------------------------------------------------\n",
      "0 | criterion       | MSELoss          | 0      | train\n",
      "1 | train_criterion | MSELoss          | 0      | train\n",
      "2 | val_criterion   | MSELoss          | 0      | train\n",
      "3 | train_metrics   | MetricCollection | 0      | train\n",
      "4 | val_metrics     | MetricCollection | 0      | train\n",
      "5 | rnn             | LSTM             | 50.4 K | train\n",
      "6 | fc              | Sequential       | 780    | train\n",
      "-------------------------------------------------------------\n",
      "51.2 K    Trainable params\n",
      "0         Non-trainable params\n",
      "51.2 K    Total params\n",
      "0.205     Total estimated model params size (MB)\n",
      "8         Modules in train mode\n",
      "0         Modules in eval mode\n"
     ]
    },
    {
     "data": {
      "application/vnd.jupyter.widget-view+json": {
       "model_id": "eb2134923124438285a3f0e1744e93bd",
       "version_major": 2,
       "version_minor": 0
      },
      "text/plain": [
       "Training: |          | 0/? [00:00<?, ?it/s]"
      ]
     },
     "metadata": {},
     "output_type": "display_data"
    },
    {
     "name": "stderr",
     "output_type": "stream",
     "text": [
      "`Trainer.fit` stopped: `max_epochs=20` reached.\n"
     ]
    },
    {
     "data": {
      "text/plain": [
       "BlockRNNModel(output_chunk_shift=0, model=LSTM, hidden_dim=64, n_rnn_layers=2, hidden_fc_sizes=None, dropout=0.2, activation=ReLU, input_chunk_length=48, output_chunk_length=12, n_epochs=20, random_state=42)"
      ]
     },
     "execution_count": 23,
     "metadata": {},
     "output_type": "execute_result"
    }
   ],
   "source": [
    "# 9. آموزش مدل\n",
    "# model.fit(series=train_series, past_covariates=train_cov, verbose=True)\n",
    "model.fit(train_series)\n"
   ]
  },
  {
   "cell_type": "code",
   "execution_count": null,
   "metadata": {},
   "outputs": [],
   "source": [
    "# 10. پیش‌بینی چند گام آینده\n",
    "pred = model.predict(n=len(test_series), series=train_series, past_covariates=covariates_scaled)\n"
   ]
  },
  {
   "cell_type": "code",
   "execution_count": null,
   "metadata": {},
   "outputs": [],
   "source": [
    "\n",
    "# 11. بازگرداندن مقیاس اصلی\n",
    "pred = scaler_series.inverse_transform(pred)\n",
    "test_series = scaler_series.inverse_transform(test_series)\n"
   ]
  },
  {
   "cell_type": "code",
   "execution_count": null,
   "metadata": {},
   "outputs": [],
   "source": [
    "\n",
    "# 12. ارزیابی\n",
    "print(f\"RMSE: {rmse(test_series, pred):.2f}\")\n",
    "print(f\"MAE: {mae(test_series, pred):.2f}\")\n"
   ]
  },
  {
   "cell_type": "code",
   "execution_count": null,
   "metadata": {},
   "outputs": [],
   "source": [
    "\n",
    "# 13. رسم نمودار\n",
    "df_test = test_series.pd_dataframe()\n",
    "df_pred = pred.pd_dataframe()\n"
   ]
  },
  {
   "cell_type": "code",
   "execution_count": null,
   "metadata": {},
   "outputs": [],
   "source": [
    "\n",
    "plt.figure(figsize=(10, 4))\n",
    "plt.plot(df_test.index, df_test['POWER'], label='Actual')\n",
    "plt.plot(df_pred.index, df_pred['POWER'], label='Predicted')\n",
    "plt.legend()\n",
    "plt.title(\"Actual vs Predicted POWER\")\n",
    "plt.xlabel(\"Time\")\n",
    "plt.ylabel(\"POWER\")\n",
    "plt.grid(True)\n",
    "plt.tight_layout()\n",
    "plt.show()"
   ]
  }
 ],
 "metadata": {
  "kernelspec": {
   "display_name": "test2",
   "language": "python",
   "name": "python3"
  },
  "language_info": {
   "codemirror_mode": {
    "name": "ipython",
    "version": 3
   },
   "file_extension": ".py",
   "mimetype": "text/x-python",
   "name": "python",
   "nbconvert_exporter": "python",
   "pygments_lexer": "ipython3",
   "version": "3.12.3"
  }
 },
 "nbformat": 4,
 "nbformat_minor": 2
}
